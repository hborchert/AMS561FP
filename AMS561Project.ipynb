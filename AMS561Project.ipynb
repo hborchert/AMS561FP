{
 "cells": [
  {
   "cell_type": "code",
   "execution_count": 1,
   "metadata": {},
   "outputs": [],
   "source": [
    "import torch\n",
    "import torch.nn as nn\n",
    "import torch.optim as optim"
   ]
  },
  {
   "cell_type": "code",
   "execution_count": 3,
   "metadata": {},
   "outputs": [
    {
     "name": "stdout",
     "output_type": "stream",
     "text": [
      "Epoch [10/100], Loss: -249.9868\n",
      "Epoch [20/100], Loss: -546.5179\n",
      "Epoch [30/100], Loss: -843.0320\n",
      "Epoch [40/100], Loss: -1139.5461\n",
      "Epoch [50/100], Loss: -1436.0602\n",
      "Epoch [60/100], Loss: -1732.5743\n",
      "Epoch [70/100], Loss: -2029.0881\n",
      "Epoch [80/100], Loss: -2325.6011\n",
      "Epoch [90/100], Loss: -2622.1143\n",
      "Epoch [100/100], Loss: -2918.6274\n",
      "Predicted output: 66.99412536621094\n"
     ]
    }
   ],
   "source": [
    "\n",
    "# Assuming you have your dataset in the form of torch tensors X and Y\n",
    "# X should have shape (num_samples, num_features)\n",
    "# Y should have shape (num_samples,)\n",
    "\n",
    "# Input data\n",
    "X = torch.tensor([[0.1, 0.2, 0.3]])  # Note the extra square brackets to create a 2D tensor\n",
    "\n",
    "# Output data\n",
    "Y = torch.tensor([52]).float()  # Convert target labels to float tensor\n",
    "\n",
    "# Define your model\n",
    "class LogisticRegression(nn.Module):\n",
    "    def __init__(self, input_size):\n",
    "        super(LogisticRegression, self).__init__()\n",
    "        self.linear = nn.Linear(input_size, 1)  # Linear layer with one output neuron\n",
    "\n",
    "    def forward(self, x):\n",
    "        out = self.linear(x)\n",
    "        return out\n",
    "\n",
    "# Define your loss function\n",
    "criterion = nn.BCEWithLogitsLoss()\n",
    "\n",
    "# Initialize your model\n",
    "input_size = 3  # Assuming 3 features for the molecule geometry\n",
    "model = LogisticRegression(input_size)\n",
    "\n",
    "# Define your optimizer\n",
    "optimizer = optim.SGD(model.parameters(), lr=0.01)  # You can adjust the learning rate\n",
    "\n",
    "# Training loop\n",
    "num_epochs = 100\n",
    "for epoch in range(num_epochs):\n",
    "    # Forward pass\n",
    "    outputs = model(X)  # X is your input data\n",
    "    loss = criterion(outputs, Y.view(-1, 1))  # BCEWithLogitsLoss expects shape (N, 1) for targets\n",
    "\n",
    "    # Backward pass and optimization\n",
    "    optimizer.zero_grad()\n",
    "    loss.backward()\n",
    "    optimizer.step()\n",
    "\n",
    "    # Print progress\n",
    "    if (epoch+1) % 10 == 0:\n",
    "        print(f'Epoch [{epoch+1}/{num_epochs}], Loss: {loss.item():.4f}')\n",
    "\n",
    "# Make a prediction using the trained model\n",
    "input_data = torch.tensor([[0.4, 0.5, 0.6]])  # Example input data for prediction\n",
    "predicted_output = model(input_data)\n",
    "\n",
    "# Print the predicted output\n",
    "print(\"Predicted output:\", predicted_output.item())\n",
    "\n"
   ]
  },
  {
   "cell_type": "code",
   "execution_count": null,
   "metadata": {},
   "outputs": [],
   "source": []
  }
 ],
 "metadata": {
  "interpreter": {
   "hash": "eb504e06e19e8d88e2fb0eed19ec0a704236ef277cc2f7218769018cf6791d95"
  },
  "kernelspec": {
   "display_name": "Python 3.11.5 ('base')",
   "language": "python",
   "name": "python3"
  },
  "language_info": {
   "codemirror_mode": {
    "name": "ipython",
    "version": 3
   },
   "file_extension": ".py",
   "mimetype": "text/x-python",
   "name": "python",
   "nbconvert_exporter": "python",
   "pygments_lexer": "ipython3",
   "version": "3.11.5"
  },
  "orig_nbformat": 4
 },
 "nbformat": 4,
 "nbformat_minor": 2
}

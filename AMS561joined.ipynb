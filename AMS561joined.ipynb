{
 "cells": [
  {
   "cell_type": "code",
   "execution_count": 282,
   "metadata": {},
   "outputs": [],
   "source": [
    "# Using PyTorch for NN\n",
    "import torch\n",
    "import torch.nn as nn\n",
    "import torch.optim as optim\n",
    "from sklearn.model_selection import train_test_split\n",
    "from sklearn.preprocessing import StandardScaler\n",
    "from sklearn.metrics import mean_squared_error\n",
    "\n",
    "import pandas as pd\n",
    "import numpy as np\n",
    "import inputparser\n"
   ]
  },
  {
   "cell_type": "code",
   "execution_count": 283,
   "metadata": {},
   "outputs": [],
   "source": [
    "input_vector, y_test = inputparser.make_input()"
   ]
  },
  {
   "cell_type": "code",
   "execution_count": 284,
   "metadata": {},
   "outputs": [],
   "source": [
    "# x-test, y-test are 225 data points, remove first element for verification\n",
    "x_verification = []\n",
    "x_verification.append(input_vector[0])\n",
    "y_verification = y_test[0]\n",
    "\n",
    "x_input = input_vector[1:]\n",
    "y_input = []\n",
    "for i in y_test[1:]:\n",
    "    y_input.append(i)"
   ]
  },
  {
   "cell_type": "code",
   "execution_count": 285,
   "metadata": {},
   "outputs": [
    {
     "name": "stdout",
     "output_type": "stream",
     "text": [
      "Epoch [100/141], Loss: 0.0056\n",
      "Final Epoch Count: 141\n",
      "Training MSE: 0.003620665\n",
      "Validation MSE: 0.017644884\n"
     ]
    }
   ],
   "source": [
    "# Random seeding\n",
    "torch.manual_seed(44)\n",
    "np.random.seed(44)\n",
    "\n",
    "# Input data\n",
    "X = torch.tensor(x_input.tolist())\n",
    "Y = torch.tensor(y_input)\n",
    "\n",
    "# Split data\n",
    "X_train, X_val, Y_train, Y_val = train_test_split(X, Y, test_size=0.2, random_state=42)\n",
    "\n",
    "# Normalize\n",
    "scaler = StandardScaler()\n",
    "X_train = scaler.fit_transform(X_train)\n",
    "X_val = scaler.transform(X_val)\n",
    "\n",
    "# NN\n",
    "class NeuralNet(nn.Module):\n",
    "    def __init__(self, input_size, hidden_size):\n",
    "        super(NeuralNet, self).__init__()\n",
    "        self.fc1 = nn.Linear(input_size, hidden_size)\n",
    "        self.fc2 = nn.Linear(hidden_size, 1)\n",
    "\n",
    "    def forward(self, x):\n",
    "        x = torch.relu(self.fc1(x))\n",
    "        x = self.fc2(x)\n",
    "        return x\n",
    "\n",
    "# Initialize\n",
    "input_size = len(x_input[0])\n",
    "# Optimal hidden layer size\n",
    "hidden_size = 290  \n",
    "model = NeuralNet(input_size, hidden_size)\n",
    "\n",
    "# loss\n",
    "criterion = nn.MSELoss()\n",
    "optimizer = optim.Adam(model.parameters(), lr=0.01)\n",
    "\n",
    "# Training loop\n",
    "for epoch in range(141):\n",
    "    # forward prop\n",
    "    outputs = model(torch.tensor(X_train, dtype=torch.float32))\n",
    "    loss = criterion(outputs.squeeze(), Y_train)\n",
    "    # back prop\n",
    "    optimizer.zero_grad()\n",
    "    loss.backward()\n",
    "    optimizer.step()\n",
    "    \n",
    "    if (epoch+1) % 100 == 0:\n",
    "        print(f'Epoch [{epoch+1}/141], Loss: {loss.item():.4f}')\n",
    "print(\"Final Epoch Count:\", epoch + 1)\n",
    "\n",
    "with torch.no_grad():\n",
    "    train_outputs = model(torch.tensor(X_train, dtype=torch.float32))\n",
    "    train_mse = mean_squared_error(train_outputs.squeeze().detach().numpy(), Y_train)\n",
    "print(\"Training MSE:\", train_mse)\n",
    "\n",
    "with torch.no_grad():\n",
    "    val_outputs = model(torch.tensor(X_val, dtype=torch.float32))\n",
    "    val_mse = mean_squared_error(val_outputs.squeeze().detach().numpy(), Y_val)\n",
    "print(\"Validation MSE:\", val_mse)\n"
   ]
  }
 ],
 "metadata": {
  "interpreter": {
   "hash": "eb504e06e19e8d88e2fb0eed19ec0a704236ef277cc2f7218769018cf6791d95"
  },
  "kernelspec": {
   "display_name": "Python 3 (ipykernel)",
   "language": "python",
   "name": "python3"
  },
  "language_info": {
   "codemirror_mode": {
    "name": "ipython",
    "version": 3
   },
   "file_extension": ".py",
   "mimetype": "text/x-python",
   "name": "python",
   "nbconvert_exporter": "python",
   "pygments_lexer": "ipython3",
   "version": "3.11.5"
  }
 },
 "nbformat": 4,
 "nbformat_minor": 4
}

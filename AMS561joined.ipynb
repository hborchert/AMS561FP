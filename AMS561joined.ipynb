{
 "cells": [
  {
   "cell_type": "code",
   "execution_count": 1,
   "metadata": {},
   "outputs": [],
   "source": [
    "# Using PyTorch for NN\n",
    "import torch\n",
    "import torch.nn as nn\n",
    "import torch.optim as optim\n",
    "from sklearn.model_selection import train_test_split\n",
    "from sklearn.preprocessing import StandardScaler\n",
    "from sklearn.metrics import mean_squared_error\n",
    "\n",
    "import pandas as pd\n",
    "import numpy as np\n",
    "import inputparser\n"
   ]
  },
  {
   "cell_type": "code",
   "execution_count": 2,
   "metadata": {},
   "outputs": [],
   "source": [
    "input_vector, y_test = inputparser.make_input()"
   ]
  },
  {
   "cell_type": "code",
   "execution_count": 3,
   "metadata": {},
   "outputs": [],
   "source": [
    "# x-test, y-test are 225 data points, remove first element for verification\n",
    "x_verification = []\n",
    "x_verification.append(input_vector[0])\n",
    "y_verification = y_test[0]\n",
    "\n",
    "x_input = input_vector[1:]\n",
    "y_input = []\n",
    "for i in y_test[1:]:\n",
    "    y_input.append(i)"
   ]
  },
  {
   "cell_type": "code",
   "execution_count": 4,
   "metadata": {},
   "outputs": [
    {
     "name": "stdout",
     "output_type": "stream",
     "text": [
      "Epoch [100/141], Loss: 0.0056\n",
      "Final Epoch Count: 141\n",
      "Training MSE: 0.003620665\n",
      "Validation MSE: 0.017644884\n"
     ]
    }
   ],
   "source": [
    "# Random seeding\n",
    "torch.manual_seed(44)\n",
    "np.random.seed(44)\n",
    "\n",
    "# Input data\n",
    "X = torch.tensor(x_input.tolist())\n",
    "Y = torch.tensor(y_input)\n",
    "\n",
    "# Split data\n",
    "X_train, X_val, Y_train, Y_val = train_test_split(X, Y, test_size=0.2, random_state=42)\n",
    "\n",
    "# Normalize\n",
    "scaler = StandardScaler()\n",
    "X_train = scaler.fit_transform(X_train)\n",
    "X_val = scaler.transform(X_val)\n",
    "\n",
    "# NN\n",
    "class NeuralNet(nn.Module):\n",
    "    def __init__(self, input_size, hidden_size):\n",
    "        super(NeuralNet, self).__init__()\n",
    "        self.fc1 = nn.Linear(input_size, hidden_size)\n",
    "        self.fc2 = nn.Linear(hidden_size, 1)\n",
    "\n",
    "    def forward(self, x):\n",
    "        x = torch.relu(self.fc1(x))\n",
    "        x = self.fc2(x)\n",
    "        return x\n",
    "\n",
    "# Initialize\n",
    "input_size = len(x_input[0])\n",
    "# Optimal hidden layer size\n",
    "hidden_size = 290  \n",
    "model = NeuralNet(input_size, hidden_size)\n",
    "\n",
    "# loss\n",
    "criterion = nn.MSELoss()\n",
    "optimizer = optim.Adam(model.parameters(), lr=0.01)\n",
    "\n",
    "# Training loop\n",
    "for epoch in range(141):\n",
    "    # forward prop\n",
    "    outputs = model(torch.tensor(X_train, dtype=torch.float32))\n",
    "    loss = criterion(outputs.squeeze(), Y_train)\n",
    "    # back prop\n",
    "    optimizer.zero_grad()\n",
    "    loss.backward()\n",
    "    optimizer.step()\n",
    "    \n",
    "    if (epoch+1) % 100 == 0:\n",
    "        print(f'Epoch [{epoch+1}/141], Loss: {loss.item():.4f}')\n",
    "print(\"Final Epoch Count:\", epoch + 1)\n",
    "\n",
    "with torch.no_grad():\n",
    "    train_outputs = model(torch.tensor(X_train, dtype=torch.float32))\n",
    "    train_mse = mean_squared_error(train_outputs.squeeze().detach().numpy(), Y_train)\n",
    "print(\"Training MSE:\", train_mse)\n",
    "\n",
    "with torch.no_grad():\n",
    "    val_outputs = model(torch.tensor(X_val, dtype=torch.float32))\n",
    "    val_mse = mean_squared_error(val_outputs.squeeze().detach().numpy(), Y_val)\n",
    "print(\"Validation MSE:\", val_mse)\n",
    "\n"
   ]
  },
  {
   "cell_type": "code",
   "execution_count": 5,
   "metadata": {},
   "outputs": [
    {
     "name": "stdout",
     "output_type": "stream",
     "text": [
      "[ -0.8222181   -0.67970365  -1.7375696   -2.8626318   -1.0647829\n",
      "  -3.052196    -1.3668013   -1.4823059   -0.5288116   -0.64136106\n",
      "  -4.941699    -0.66043097  -0.292598    -0.67841226  -1.1588542\n",
      "  -4.589134    -0.3131652   -1.8886867   -0.8486231   -1.0634212\n",
      "  -1.6879075   -1.6509452   -1.435628    -0.45398027  -0.683844\n",
      "  -4.3862123   -1.2435153   -1.3835042   -0.66985744  -1.7862952\n",
      "  -1.0461174   -1.2789261  -10.880288    -1.322271    -1.4830766\n",
      "  -0.8517486   -1.5412334   -1.2242507   -0.9786503   -0.9233827\n",
      "  -0.91604954  -1.7520909   -2.5522683   -1.5270569   -1.2532089 ]\n"
     ]
    }
   ],
   "source": [
    "val_unsorted = val_outputs.squeeze().detach().numpy()\n",
    "print(val_unsorted)"
   ]
  },
  {
   "cell_type": "code",
   "execution_count": 6,
   "metadata": {},
   "outputs": [
    {
     "name": "stdout",
     "output_type": "stream",
     "text": [
      "[ -0.79794914  -0.6908408   -1.668961    -2.9318223   -1.0525415\n",
      "  -3.0746264   -1.438742    -1.6125808   -0.4743731   -0.67173576\n",
      "  -5.074177    -0.7192913   -0.23940559  -0.6822562   -1.1188079\n",
      "  -4.89845     -0.21544072  -1.9638656   -0.95251924  -1.0548779\n",
      "  -1.9152862   -1.5653359   -1.4664245   -0.3569649   -0.85329396\n",
      "  -4.3623357   -1.4673803   -1.6451893   -0.655875    -1.8348596\n",
      "  -0.6766137   -1.515031   -10.788043    -1.2504039   -1.4635166\n",
      "  -0.82925224  -1.4858009   -1.6150858   -0.99036634  -0.90275496\n",
      "  -0.95012754  -1.6095264   -2.610244    -1.5121139   -1.2108301 ]\n"
     ]
    }
   ],
   "source": [
    "print(Y_val.squeeze().detach().numpy())"
   ]
  },
  {
   "cell_type": "code",
   "execution_count": 7,
   "metadata": {},
   "outputs": [],
   "source": [
    "# Using Sorted CM dataset\n",
    "input_vector, y_test = inputparser.make_input(sort = True)"
   ]
  },
  {
   "cell_type": "code",
   "execution_count": 8,
   "metadata": {},
   "outputs": [],
   "source": [
    "# x-test, y-test are 225 data points, remove first element for verification\n",
    "x_verification = []\n",
    "x_verification.append(input_vector[0])\n",
    "y_verification = y_test[0]\n",
    "\n",
    "x_input = input_vector[1:]\n",
    "y_input = []\n",
    "for i in y_test[1:]:\n",
    "    y_input.append(i)"
   ]
  },
  {
   "cell_type": "code",
   "execution_count": 9,
   "metadata": {},
   "outputs": [
    {
     "name": "stdout",
     "output_type": "stream",
     "text": [
      "Epoch [100/141], Loss: 0.0049\n",
      "Epoch [200/141], Loss: 0.0030\n",
      "Final Epoch Count: 202\n",
      "Training MSE: 0.0029975632\n",
      "Validation MSE: 0.04498888\n"
     ]
    }
   ],
   "source": [
    "# Random seeding\n",
    "torch.manual_seed(12)\n",
    "np.random.seed(12)\n",
    "\n",
    "# Input data\n",
    "X = torch.tensor(x_input.tolist())\n",
    "Y = torch.tensor(y_input)\n",
    "\n",
    "# Split data\n",
    "X_train, X_val, Y_train, Y_val = train_test_split(X, Y, test_size=0.2, random_state=42)\n",
    "\n",
    "# Normalize\n",
    "scaler = StandardScaler()\n",
    "X_train = scaler.fit_transform(X_train)\n",
    "X_val = scaler.transform(X_val)\n",
    "\n",
    "# NN\n",
    "class NeuralNet(nn.Module):\n",
    "    def __init__(self, input_size, hidden_size):\n",
    "        super(NeuralNet, self).__init__()\n",
    "        self.fc1 = nn.Linear(input_size, hidden_size)\n",
    "        self.fc2 = nn.Linear(hidden_size, 1)\n",
    "\n",
    "    def forward(self, x):\n",
    "        x = torch.relu(self.fc1(x))\n",
    "        x = self.fc2(x)\n",
    "        return x\n",
    "\n",
    "# Initialize\n",
    "input_size = len(x_input[0])\n",
    "# Optimal hidden layer size\n",
    "hidden_size = 290  \n",
    "model = NeuralNet(input_size, hidden_size)\n",
    "\n",
    "# loss\n",
    "criterion = nn.MSELoss()\n",
    "optimizer = optim.Adam(model.parameters(), lr=0.01)\n",
    "\n",
    "# Training loop\n",
    "for epoch in range(202):\n",
    "    # forward prop\n",
    "    outputs = model(torch.tensor(X_train, dtype=torch.float32))\n",
    "    loss = criterion(outputs.squeeze(), Y_train)\n",
    "    # back prop\n",
    "    optimizer.zero_grad()\n",
    "    loss.backward()\n",
    "    optimizer.step()\n",
    "    \n",
    "    if (epoch+1) % 100 == 0:\n",
    "        print(f'Epoch [{epoch+1}/141], Loss: {loss.item():.4f}')\n",
    "print(\"Final Epoch Count:\", epoch + 1)\n",
    "\n",
    "with torch.no_grad():\n",
    "    train_outputs = model(torch.tensor(X_train, dtype=torch.float32))\n",
    "    train_mse = mean_squared_error(train_outputs.squeeze().detach().numpy(), Y_train)\n",
    "print(\"Training MSE:\", train_mse)\n",
    "\n",
    "with torch.no_grad():\n",
    "    val_outputs = model(torch.tensor(X_val, dtype=torch.float32))\n",
    "    val_mse = mean_squared_error(val_outputs.squeeze().detach().numpy(), Y_val)\n",
    "print(\"Validation MSE:\", val_mse)"
   ]
  },
  {
   "cell_type": "code",
   "execution_count": 10,
   "metadata": {},
   "outputs": [
    {
     "name": "stdout",
     "output_type": "stream",
     "text": [
      "[ -0.7886579   -0.6847472   -1.7354743   -2.4632614   -1.04707\n",
      "  -3.4808636   -1.3713361   -1.5353242   -0.5368382   -0.63520396\n",
      "  -4.5766263   -0.66509026  -0.32801068  -0.68283415  -1.1394968\n",
      "  -4.498821    -0.34017313  -1.8551028   -0.89370024  -1.2088622\n",
      "  -1.6239928   -1.6117041   -1.3389059   -0.4497339   -0.69593054\n",
      "  -4.3275576   -1.2987226   -1.002403    -0.6745676   -1.7765348\n",
      "  -1.1127594   -1.6085879  -10.57334     -1.2619058   -1.4872946\n",
      "  -0.8481041   -1.514206    -1.1206731   -0.97156394  -0.9293308\n",
      "  -0.8967328   -1.630556    -2.8635235   -1.4864188   -1.2638128 ]\n"
     ]
    }
   ],
   "source": [
    "val_sorted = val_outputs.squeeze().detach().numpy()\n",
    "print(val_sorted)"
   ]
  },
  {
   "cell_type": "code",
   "execution_count": 11,
   "metadata": {},
   "outputs": [
    {
     "name": "stdout",
     "output_type": "stream",
     "text": [
      "[ -0.79794914  -0.6908408   -1.668961    -2.9318223   -1.0525415\n",
      "  -3.0746264   -1.438742    -1.6125808   -0.4743731   -0.67173576\n",
      "  -5.074177    -0.7192913   -0.23940559  -0.6822562   -1.1188079\n",
      "  -4.89845     -0.21544072  -1.9638656   -0.95251924  -1.0548779\n",
      "  -1.9152862   -1.5653359   -1.4664245   -0.3569649   -0.85329396\n",
      "  -4.3623357   -1.4673803   -1.6451893   -0.655875    -1.8348596\n",
      "  -0.6766137   -1.515031   -10.788043    -1.2504039   -1.4635166\n",
      "  -0.82925224  -1.4858009   -1.6150858   -0.99036634  -0.90275496\n",
      "  -0.95012754  -1.6095264   -2.610244    -1.5121139   -1.2108301 ]\n"
     ]
    }
   ],
   "source": [
    "print(Y_val.squeeze().detach().numpy())"
   ]
  },
  {
   "cell_type": "code",
   "execution_count": 12,
   "metadata": {},
   "outputs": [
    {
     "name": "stdout",
     "output_type": "stream",
     "text": [
      "Final Epoch Count: 30\n",
      "Training MSE: 0.09437566\n",
      "Validation MSE: 1.2631227\n"
     ]
    }
   ],
   "source": [
    "# Random seeding\n",
    "torch.manual_seed(2)\n",
    "np.random.seed(2)\n",
    "\n",
    "# Input data\n",
    "X = torch.tensor(x_input.tolist())\n",
    "Y = torch.tensor(y_input)\n",
    "\n",
    "# Split data\n",
    "X_train, X_val, Y_train, Y_val = train_test_split(X, Y, test_size=0.2, random_state=42)\n",
    "\n",
    "# Normalize\n",
    "scaler = StandardScaler()\n",
    "X_train = scaler.fit_transform(X_train)\n",
    "X_val = scaler.transform(X_val)\n",
    "\n",
    "# NN\n",
    "class NeuralNet(nn.Module):\n",
    "    def __init__(self, input_size, hidden_size):\n",
    "        super(NeuralNet, self).__init__()\n",
    "        self.fc1 = nn.Linear(input_size, hidden_size)\n",
    "        self.fc2 = nn.Linear(hidden_size, 1)\n",
    "\n",
    "    def forward(self, x):\n",
    "        x = torch.relu(self.fc1(x))\n",
    "        x = self.fc2(x)\n",
    "        return x\n",
    "\n",
    "# Initialize\n",
    "input_size = len(x_input[0])\n",
    "# Optimal hidden layer size\n",
    "hidden_size = 64 \n",
    "model = NeuralNet(input_size, hidden_size)\n",
    "\n",
    "# loss\n",
    "criterion = nn.MSELoss()\n",
    "optimizer = optim.Adam(model.parameters(), lr=0.01)\n",
    "\n",
    "# Training loop\n",
    "for epoch in range(30):\n",
    "    # forward prop\n",
    "    outputs = model(torch.tensor(X_train, dtype=torch.float32))\n",
    "    loss = criterion(outputs.squeeze(), Y_train)\n",
    "    # back prop\n",
    "    optimizer.zero_grad()\n",
    "    loss.backward()\n",
    "    optimizer.step()\n",
    "    \n",
    "    if (epoch+1) % 100 == 0:\n",
    "        print(f'Epoch [{epoch+1}/141], Loss: {loss.item():.4f}')\n",
    "print(\"Final Epoch Count:\", epoch + 1)\n",
    "\n",
    "with torch.no_grad():\n",
    "    train_outputs = model(torch.tensor(X_train, dtype=torch.float32))\n",
    "    train_mse = mean_squared_error(train_outputs.squeeze().detach().numpy(), Y_train)\n",
    "print(\"Training MSE:\", train_mse)\n",
    "\n",
    "with torch.no_grad():\n",
    "    val_outputs = model(torch.tensor(X_val, dtype=torch.float32))\n",
    "    val_mse = mean_squared_error(val_outputs.squeeze().detach().numpy(), Y_val)\n",
    "print(\"Validation MSE:\", val_mse)"
   ]
  },
  {
   "cell_type": "code",
   "execution_count": 13,
   "metadata": {},
   "outputs": [
    {
     "name": "stdout",
     "output_type": "stream",
     "text": [
      "[ -1.0655326   -0.9448285   -1.8024819   -9.620525    -1.1563116\n",
      "  -3.175777    -1.1172063   -1.4180847   -0.83021367  -0.92195505\n",
      "  -5.219787    -0.8713789   -0.6744958   -0.9587719   -1.1880789\n",
      "  -4.7077017   -0.68522775  -1.8700945   -1.1303687   -1.0225811\n",
      "  -1.3315141   -1.4616245   -1.3798358   -0.7945882   -0.8376738\n",
      "  -4.133973    -1.4334984   -1.5755371   -1.0029144   -1.7710961\n",
      "  -1.2004617   -1.8752494  -10.574104    -1.5081536   -1.5837297\n",
      "  -1.1004128   -1.4000092   -1.074283    -1.2072899   -1.1695824\n",
      "  -1.1724808   -1.7149626   -5.612506    -1.2187874   -1.4694256 ]\n"
     ]
    }
   ],
   "source": [
    "val_naive = val_outputs.squeeze().detach().numpy()\n",
    "print(val_naive)"
   ]
  },
  {
   "cell_type": "code",
   "execution_count": 14,
   "metadata": {},
   "outputs": [
    {
     "name": "stdout",
     "output_type": "stream",
     "text": [
      "[ -0.79794914  -0.6908408   -1.668961    -2.9318223   -1.0525415\n",
      "  -3.0746264   -1.438742    -1.6125808   -0.4743731   -0.67173576\n",
      "  -5.074177    -0.7192913   -0.23940559  -0.6822562   -1.1188079\n",
      "  -4.89845     -0.21544072  -1.9638656   -0.95251924  -1.0548779\n",
      "  -1.9152862   -1.5653359   -1.4664245   -0.3569649   -0.85329396\n",
      "  -4.3623357   -1.4673803   -1.6451893   -0.655875    -1.8348596\n",
      "  -0.6766137   -1.515031   -10.788043    -1.2504039   -1.4635166\n",
      "  -0.82925224  -1.4858009   -1.6150858   -0.99036634  -0.90275496\n",
      "  -0.95012754  -1.6095264   -2.610244    -1.5121139   -1.2108301 ]\n"
     ]
    }
   ],
   "source": [
    "print(Y_val.squeeze().detach().numpy())"
   ]
  }
 ],
 "metadata": {
  "interpreter": {
   "hash": "eb504e06e19e8d88e2fb0eed19ec0a704236ef277cc2f7218769018cf6791d95"
  },
  "kernelspec": {
   "display_name": "Python 3 (ipykernel)",
   "language": "python",
   "name": "python3"
  },
  "language_info": {
   "codemirror_mode": {
    "name": "ipython",
    "version": 3
   },
   "file_extension": ".py",
   "mimetype": "text/x-python",
   "name": "python",
   "nbconvert_exporter": "python",
   "pygments_lexer": "ipython3",
   "version": "3.11.5"
  }
 },
 "nbformat": 4,
 "nbformat_minor": 4
}

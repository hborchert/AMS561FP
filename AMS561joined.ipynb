{
 "cells": [
  {
   "cell_type": "code",
   "execution_count": 1,
   "metadata": {},
   "outputs": [],
   "source": [
    "# Using PyTorch for NN\n",
    "import torch\n",
    "import torch.nn as nn\n",
    "import torch.optim as optim\n",
    "from sklearn.model_selection import train_test_split\n",
    "from sklearn.preprocessing import StandardScaler\n",
    "from sklearn.metrics import mean_squared_error\n",
    "\n",
    "import pandas as pd\n",
    "import numpy as np\n",
    "import inputparser"
   ]
  },
  {
   "cell_type": "code",
   "execution_count": 2,
   "metadata": {},
   "outputs": [],
   "source": [
    "input_vector, y_test, y_dict = inputparser.make_input()"
   ]
  },
  {
   "cell_type": "code",
   "execution_count": 3,
   "metadata": {},
   "outputs": [],
   "source": [
    "# x-test, y-test are 225 data points, remove first element for verification\n",
    "x_verification = []\n",
    "x_verification.append(input_vector[0])\n",
    "y_verification = y_test[0]\n",
    "\n",
    "x_input = input_vector[1:]\n",
    "y_input = []\n",
    "for i in y_test[1:]:\n",
    "    y_input.append(i)"
   ]
  },
  {
   "cell_type": "code",
   "execution_count": 4,
   "metadata": {},
   "outputs": [
    {
     "name": "stdout",
     "output_type": "stream",
     "text": [
      "Epoch [100/141], Loss: 0.0056\n",
      "Final Epoch Count: 141\n",
      "Training MSE: 0.0036206632\n",
      "Validation MSE: 0.017644415\n"
     ]
    }
   ],
   "source": [
    "# Random seeding\n",
    "torch.manual_seed(44)\n",
    "np.random.seed(44)\n",
    "\n",
    "# Input data\n",
    "X = torch.tensor(x_input.tolist())\n",
    "Y = torch.tensor(y_input)\n",
    "\n",
    "# Split data\n",
    "X_train, X_val, Y_train, Y_val = train_test_split(X, Y, test_size=0.2, random_state=42)\n",
    "\n",
    "# Normalize\n",
    "scaler = StandardScaler()\n",
    "X_train = scaler.fit_transform(X_train)\n",
    "X_val = scaler.transform(X_val)\n",
    "\n",
    "# NN\n",
    "class NeuralNet(nn.Module):\n",
    "    def __init__(self, input_size, hidden_size):\n",
    "        super(NeuralNet, self).__init__()\n",
    "        self.fc1 = nn.Linear(input_size, hidden_size)\n",
    "        self.fc2 = nn.Linear(hidden_size, 1)\n",
    "\n",
    "    def forward(self, x):\n",
    "        x = torch.relu(self.fc1(x))\n",
    "        x = self.fc2(x)\n",
    "        return x\n",
    "\n",
    "# Initialize\n",
    "input_size = len(x_input[0])\n",
    "# Optimal hidden layer size\n",
    "hidden_size = 290  \n",
    "model = NeuralNet(input_size, hidden_size)\n",
    "\n",
    "# loss\n",
    "criterion = nn.MSELoss()\n",
    "optimizer = optim.Adam(model.parameters(), lr=0.01)\n",
    "\n",
    "# Training loop\n",
    "for epoch in range(141):\n",
    "    # forward prop\n",
    "    outputs = model(torch.tensor(X_train, dtype=torch.float32))\n",
    "    loss = criterion(outputs.squeeze(), Y_train)\n",
    "    # back prop\n",
    "    optimizer.zero_grad()\n",
    "    loss.backward()\n",
    "    optimizer.step()\n",
    "    \n",
    "    if (epoch+1) % 100 == 0:\n",
    "        print(f'Epoch [{epoch+1}/141], Loss: {loss.item():.4f}')\n",
    "print(\"Final Epoch Count:\", epoch + 1)\n",
    "\n",
    "with torch.no_grad():\n",
    "    train_outputs = model(torch.tensor(X_train, dtype=torch.float32))\n",
    "    train_mse = mean_squared_error(train_outputs.squeeze().detach().numpy(), Y_train)\n",
    "print(\"Training MSE:\", train_mse)\n",
    "\n",
    "with torch.no_grad():\n",
    "    val_outputs = model(torch.tensor(X_val, dtype=torch.float32))\n",
    "    val_mse = mean_squared_error(val_outputs.squeeze().detach().numpy(), Y_val)\n",
    "print(\"Validation MSE:\", val_mse)\n",
    "\n"
   ]
  },
  {
   "cell_type": "code",
   "execution_count": 5,
   "metadata": {},
   "outputs": [
    {
     "name": "stdout",
     "output_type": "stream",
     "text": [
      "[ -0.82221854  -0.6797038   -1.7375702   -2.862629    -1.0647833\n",
      "  -3.052216    -1.3667988   -1.4823546   -0.5288122   -0.6413616\n",
      "  -4.941698    -0.66043144  -0.29259875  -0.6784127   -1.1588546\n",
      "  -4.5891337   -0.31316614  -1.888687    -0.8486231   -1.0634212\n",
      "  -1.6879255   -1.6509457   -1.4356289   -0.45398113  -0.6838446\n",
      "  -4.386206    -1.2435158   -1.3835038   -0.66985786  -1.7862955\n",
      "  -1.0461179   -1.2789257  -10.880285    -1.3222715   -1.483077\n",
      "  -0.85174894  -1.541234    -1.2242509   -0.9786508   -0.923383\n",
      "  -0.9160499   -1.7520908   -2.5522738   -1.5270575   -1.2532095 ]\n"
     ]
    }
   ],
   "source": [
    "val_unsorted = val_outputs.squeeze().detach().numpy()\n",
    "print(val_unsorted)"
   ]
  },
  {
   "cell_type": "code",
   "execution_count": 6,
   "metadata": {},
   "outputs": [
    {
     "name": "stdout",
     "output_type": "stream",
     "text": [
      "[ -0.79794914  -0.6908408   -1.668961    -2.9318223   -1.0525415\n",
      "  -3.0746264   -1.438742    -1.6125808   -0.4743731   -0.67173576\n",
      "  -5.074177    -0.7192913   -0.23940559  -0.6822562   -1.1188079\n",
      "  -4.89845     -0.21544072  -1.9638656   -0.95251924  -1.0548779\n",
      "  -1.9152862   -1.5653359   -1.4664245   -0.3569649   -0.85329396\n",
      "  -4.3623357   -1.4673803   -1.6451893   -0.655875    -1.8348596\n",
      "  -0.6766137   -1.515031   -10.788043    -1.2504039   -1.4635166\n",
      "  -0.82925224  -1.4858009   -1.6150858   -0.99036634  -0.90275496\n",
      "  -0.95012754  -1.6095264   -2.610244    -1.5121139   -1.2108301 ]\n"
     ]
    }
   ],
   "source": [
    "y_true = Y_val.squeeze().detach().numpy()\n",
    "print(y_true)"
   ]
  },
  {
   "cell_type": "code",
   "execution_count": 7,
   "metadata": {},
   "outputs": [],
   "source": [
    "# perform float comparison for 1.e-7 precision\n",
    "y_val_mols = []\n",
    "for i,j in y_dict.items():\n",
    "    for y in y_true:\n",
    "        if abs(y-i) < 0.0000001:\n",
    "            #print(j,y)\n",
    "            y_val_mols.append(j)"
   ]
  },
  {
   "cell_type": "code",
   "execution_count": 8,
   "metadata": {},
   "outputs": [
    {
     "name": "stdout",
     "output_type": "stream",
     "text": [
      "['methanol', 'beryllium_monofluoride', 'methanethiol_radical', 'cyano_radical', 'dimethyl_ether', 'ethylene', 'pentane', 'isopropyl_alcohol', 'glyoxal_trans', 'oxygen_monofluoride', 'acetamide', 'monosodium_sulfide', 'hydrogen_cyanide', 'pyridine', 'ethylamine', 'boron_trifluoride', 'pyrrole', 'cyclopentane', 'trifluoroacetic_acid', 'nitric_oxide', 'sulfur_monoxide', 'beryllium_monochloride', 'allene', 'methane', 'nonane', 'sodium_lithium', 'silicon_monoxide', 'phosphorus_mononitride', 'formic_acid', 'beryllium_dihydride', 'water', 'oxygen_diatomic', 'octane', 'dilithium_oxide', 'nitrogen_dioxide', 'sodium_diatomic', 'lithium_diatomic', 'acetyl_fluoride', 'propyne', 'ethyl_radical', 'silylene_s']\n"
     ]
    }
   ],
   "source": [
    "print(y_val_mols)"
   ]
  },
  {
   "cell_type": "code",
   "execution_count": 9,
   "metadata": {},
   "outputs": [],
   "source": [
    "# Using Sorted CM dataset\n",
    "input_vector, y_test, y_dict = inputparser.make_input(sort = True)"
   ]
  },
  {
   "cell_type": "code",
   "execution_count": 10,
   "metadata": {},
   "outputs": [],
   "source": [
    "# x-test, y-test are 225 data points, remove first element for verification\n",
    "x_verification = []\n",
    "x_verification.append(input_vector[0])\n",
    "y_verification = y_test[0]\n",
    "\n",
    "x_input = input_vector[1:]\n",
    "y_input = []\n",
    "for i in y_test[1:]:\n",
    "    y_input.append(i)"
   ]
  },
  {
   "cell_type": "code",
   "execution_count": 11,
   "metadata": {},
   "outputs": [
    {
     "name": "stdout",
     "output_type": "stream",
     "text": [
      "Epoch [100/141], Loss: 0.0049\n",
      "Epoch [200/141], Loss: 0.0030\n",
      "Final Epoch Count: 202\n",
      "Training MSE: 0.0029975642\n",
      "Validation MSE: 0.04498981\n"
     ]
    }
   ],
   "source": [
    "# Random seeding\n",
    "torch.manual_seed(12)\n",
    "np.random.seed(12)\n",
    "\n",
    "# Input data\n",
    "X = torch.tensor(x_input.tolist())\n",
    "Y = torch.tensor(y_input)\n",
    "\n",
    "# Split data\n",
    "X_train, X_val, Y_train, Y_val = train_test_split(X, Y, test_size=0.2, random_state=42)\n",
    "\n",
    "# Normalize\n",
    "scaler = StandardScaler()\n",
    "X_train = scaler.fit_transform(X_train)\n",
    "X_val = scaler.transform(X_val)\n",
    "\n",
    "# NN\n",
    "class NeuralNet(nn.Module):\n",
    "    def __init__(self, input_size, hidden_size):\n",
    "        super(NeuralNet, self).__init__()\n",
    "        self.fc1 = nn.Linear(input_size, hidden_size)\n",
    "        self.fc2 = nn.Linear(hidden_size, 1)\n",
    "\n",
    "    def forward(self, x):\n",
    "        x = torch.relu(self.fc1(x))\n",
    "        x = self.fc2(x)\n",
    "        return x\n",
    "\n",
    "# Initialize\n",
    "input_size = len(x_input[0])\n",
    "# Optimal hidden layer size\n",
    "hidden_size = 290  \n",
    "model = NeuralNet(input_size, hidden_size)\n",
    "\n",
    "# loss\n",
    "criterion = nn.MSELoss()\n",
    "optimizer = optim.Adam(model.parameters(), lr=0.01)\n",
    "\n",
    "# Training loop\n",
    "for epoch in range(202):\n",
    "    # forward prop\n",
    "    outputs = model(torch.tensor(X_train, dtype=torch.float32))\n",
    "    loss = criterion(outputs.squeeze(), Y_train)\n",
    "    # back prop\n",
    "    optimizer.zero_grad()\n",
    "    loss.backward()\n",
    "    optimizer.step()\n",
    "    \n",
    "    if (epoch+1) % 100 == 0:\n",
    "        print(f'Epoch [{epoch+1}/141], Loss: {loss.item():.4f}')\n",
    "print(\"Final Epoch Count:\", epoch + 1)\n",
    "\n",
    "with torch.no_grad():\n",
    "    train_outputs = model(torch.tensor(X_train, dtype=torch.float32))\n",
    "    train_mse = mean_squared_error(train_outputs.squeeze().detach().numpy(), Y_train)\n",
    "print(\"Training MSE:\", train_mse)\n",
    "\n",
    "with torch.no_grad():\n",
    "    val_outputs = model(torch.tensor(X_val, dtype=torch.float32))\n",
    "    val_mse = mean_squared_error(val_outputs.squeeze().detach().numpy(), Y_val)\n",
    "print(\"Validation MSE:\", val_mse)"
   ]
  },
  {
   "cell_type": "code",
   "execution_count": 12,
   "metadata": {},
   "outputs": [
    {
     "name": "stdout",
     "output_type": "stream",
     "text": [
      "[ -0.7886578   -0.68474704  -1.7354742   -2.463213    -1.0470697\n",
      "  -3.480864    -1.3713362   -1.5353248   -0.5368378   -0.63520384\n",
      "  -4.576627    -0.66509014  -0.32801032  -0.68283397  -1.1394969\n",
      "  -4.4988217   -0.34017283  -1.8551025   -0.8937009   -1.2088629\n",
      "  -1.6239921   -1.6117038   -1.3389056   -0.4497335   -0.69593036\n",
      "  -4.327557    -1.2987224   -1.0023984   -0.67456734  -1.7765346\n",
      "  -1.1127595   -1.6085879  -10.573343    -1.2619056   -1.4872944\n",
      "  -0.8481041   -1.5142056   -1.1206747   -0.97156376  -0.9293307\n",
      "  -0.89673233  -1.6305561   -2.8635108   -1.4864188   -1.2638127 ]\n"
     ]
    }
   ],
   "source": [
    "val_sorted = val_outputs.squeeze().detach().numpy()\n",
    "print(val_sorted)"
   ]
  },
  {
   "cell_type": "code",
   "execution_count": 13,
   "metadata": {},
   "outputs": [
    {
     "name": "stdout",
     "output_type": "stream",
     "text": [
      "[ -0.79794914  -0.6908408   -1.668961    -2.9318223   -1.0525415\n",
      "  -3.0746264   -1.438742    -1.6125808   -0.4743731   -0.67173576\n",
      "  -5.074177    -0.7192913   -0.23940559  -0.6822562   -1.1188079\n",
      "  -4.89845     -0.21544072  -1.9638656   -0.95251924  -1.0548779\n",
      "  -1.9152862   -1.5653359   -1.4664245   -0.3569649   -0.85329396\n",
      "  -4.3623357   -1.4673803   -1.6451893   -0.655875    -1.8348596\n",
      "  -0.6766137   -1.515031   -10.788043    -1.2504039   -1.4635166\n",
      "  -0.82925224  -1.4858009   -1.6150858   -0.99036634  -0.90275496\n",
      "  -0.95012754  -1.6095264   -2.610244    -1.5121139   -1.2108301 ]\n"
     ]
    }
   ],
   "source": [
    "y_true = Y_val.squeeze().detach().numpy()\n",
    "print(y_true)"
   ]
  },
  {
   "cell_type": "code",
   "execution_count": 14,
   "metadata": {},
   "outputs": [],
   "source": [
    "# perform float comparison for 1.e-7 precision\n",
    "y_val_mols = []\n",
    "for i,j in y_dict.items():\n",
    "    for y in y_true:\n",
    "        if abs(y-i) < 0.0000001:\n",
    "            #print(j,y)\n",
    "            y_val_mols.append(j)"
   ]
  },
  {
   "cell_type": "code",
   "execution_count": 15,
   "metadata": {},
   "outputs": [
    {
     "name": "stdout",
     "output_type": "stream",
     "text": [
      "['methanol', 'beryllium_monofluoride', 'methanethiol_radical', 'cyano_radical', 'dimethyl_ether', 'ethylene', 'pentane', 'isopropyl_alcohol', 'glyoxal_trans', 'oxygen_monofluoride', 'acetamide', 'monosodium_sulfide', 'hydrogen_cyanide', 'pyridine', 'ethylamine', 'boron_trifluoride', 'pyrrole', 'cyclopentane', 'trifluoroacetic_acid', 'nitric_oxide', 'sulfur_monoxide', 'beryllium_monochloride', 'allene', 'methane', 'nonane', 'sodium_lithium', 'silicon_monoxide', 'phosphorus_mononitride', 'formic_acid', 'beryllium_dihydride', 'water', 'oxygen_diatomic', 'octane', 'dilithium_oxide', 'nitrogen_dioxide', 'sodium_diatomic', 'lithium_diatomic', 'acetyl_fluoride', 'propyne', 'ethyl_radical', 'silylene_s']\n"
     ]
    }
   ],
   "source": [
    "print(y_val_mols)"
   ]
  },
  {
   "cell_type": "code",
   "execution_count": 16,
   "metadata": {},
   "outputs": [
    {
     "name": "stdout",
     "output_type": "stream",
     "text": [
      "Final Epoch Count: 30\n",
      "Training MSE: 0.0943756\n",
      "Validation MSE: 1.2631232\n"
     ]
    }
   ],
   "source": [
    "# Random seeding\n",
    "torch.manual_seed(2)\n",
    "np.random.seed(2)\n",
    "\n",
    "# Input data\n",
    "X = torch.tensor(x_input.tolist())\n",
    "Y = torch.tensor(y_input)\n",
    "\n",
    "# Split data\n",
    "X_train, X_val, Y_train, Y_val = train_test_split(X, Y, test_size=0.2, random_state=42)\n",
    "\n",
    "# Normalize\n",
    "scaler = StandardScaler()\n",
    "X_train = scaler.fit_transform(X_train)\n",
    "X_val = scaler.transform(X_val)\n",
    "\n",
    "# NN\n",
    "class NeuralNet(nn.Module):\n",
    "    def __init__(self, input_size, hidden_size):\n",
    "        super(NeuralNet, self).__init__()\n",
    "        self.fc1 = nn.Linear(input_size, hidden_size)\n",
    "        self.fc2 = nn.Linear(hidden_size, 1)\n",
    "\n",
    "    def forward(self, x):\n",
    "        x = torch.relu(self.fc1(x))\n",
    "        x = self.fc2(x)\n",
    "        return x\n",
    "\n",
    "# Initialize\n",
    "input_size = len(x_input[0])\n",
    "# Optimal hidden layer size\n",
    "hidden_size = 64 \n",
    "model = NeuralNet(input_size, hidden_size)\n",
    "\n",
    "# loss\n",
    "criterion = nn.MSELoss()\n",
    "optimizer = optim.Adam(model.parameters(), lr=0.01)\n",
    "\n",
    "# Training loop\n",
    "for epoch in range(30):\n",
    "    # forward prop\n",
    "    outputs = model(torch.tensor(X_train, dtype=torch.float32))\n",
    "    loss = criterion(outputs.squeeze(), Y_train)\n",
    "    # back prop\n",
    "    optimizer.zero_grad()\n",
    "    loss.backward()\n",
    "    optimizer.step()\n",
    "    \n",
    "    if (epoch+1) % 100 == 0:\n",
    "        print(f'Epoch [{epoch+1}/141], Loss: {loss.item():.4f}')\n",
    "print(\"Final Epoch Count:\", epoch + 1)\n",
    "\n",
    "with torch.no_grad():\n",
    "    train_outputs = model(torch.tensor(X_train, dtype=torch.float32))\n",
    "    train_mse = mean_squared_error(train_outputs.squeeze().detach().numpy(), Y_train)\n",
    "print(\"Training MSE:\", train_mse)\n",
    "\n",
    "with torch.no_grad():\n",
    "    val_outputs = model(torch.tensor(X_val, dtype=torch.float32))\n",
    "    val_mse = mean_squared_error(val_outputs.squeeze().detach().numpy(), Y_val)\n",
    "print(\"Validation MSE:\", val_mse)"
   ]
  },
  {
   "cell_type": "code",
   "execution_count": 17,
   "metadata": {},
   "outputs": [
    {
     "name": "stdout",
     "output_type": "stream",
     "text": [
      "[ -1.0655322   -0.9448282   -1.8024814   -9.620527    -1.1563112\n",
      "  -3.1757765   -1.1172059   -1.4180846   -0.8302133   -0.92195475\n",
      "  -5.2197866   -0.87137854  -0.67449534  -0.9587719   -1.1880789\n",
      "  -4.707701    -0.68522745  -1.8700943   -1.1303685   -1.0225812\n",
      "  -1.3315139   -1.4616244   -1.3798357   -0.79458785  -0.8376734\n",
      "  -4.1339726   -1.433498    -1.575537    -1.0029141   -1.7710959\n",
      "  -1.2004615   -1.875249   -10.574104    -1.5081534   -1.5837296\n",
      "  -1.1004125   -1.4000089   -1.0742829   -1.2072896   -1.1695821\n",
      "  -1.1724806   -1.7149622   -5.612506    -1.2187872   -1.4694252 ]\n"
     ]
    }
   ],
   "source": [
    "val_naive = val_outputs.squeeze().detach().numpy()\n",
    "print(val_naive)"
   ]
  },
  {
   "cell_type": "code",
   "execution_count": 18,
   "metadata": {},
   "outputs": [
    {
     "name": "stdout",
     "output_type": "stream",
     "text": [
      "[ -0.79794914  -0.6908408   -1.668961    -2.9318223   -1.0525415\n",
      "  -3.0746264   -1.438742    -1.6125808   -0.4743731   -0.67173576\n",
      "  -5.074177    -0.7192913   -0.23940559  -0.6822562   -1.1188079\n",
      "  -4.89845     -0.21544072  -1.9638656   -0.95251924  -1.0548779\n",
      "  -1.9152862   -1.5653359   -1.4664245   -0.3569649   -0.85329396\n",
      "  -4.3623357   -1.4673803   -1.6451893   -0.655875    -1.8348596\n",
      "  -0.6766137   -1.515031   -10.788043    -1.2504039   -1.4635166\n",
      "  -0.82925224  -1.4858009   -1.6150858   -0.99036634  -0.90275496\n",
      "  -0.95012754  -1.6095264   -2.610244    -1.5121139   -1.2108301 ]\n"
     ]
    }
   ],
   "source": [
    "y_true = Y_val.squeeze().detach().numpy()\n",
    "print(y_true)"
   ]
  },
  {
   "cell_type": "code",
   "execution_count": 19,
   "metadata": {},
   "outputs": [],
   "source": [
    "# perform float comparison for 1.e-7 precision\n",
    "y_val_mols = []\n",
    "for i,j in y_dict.items():\n",
    "    for y in y_true:\n",
    "        if abs(y-i) < 0.0000001:\n",
    "            #print(j,y)\n",
    "            y_val_mols.append(j)"
   ]
  },
  {
   "cell_type": "code",
   "execution_count": 20,
   "metadata": {},
   "outputs": [
    {
     "name": "stdout",
     "output_type": "stream",
     "text": [
      "['methanol', 'beryllium_monofluoride', 'methanethiol_radical', 'cyano_radical', 'dimethyl_ether', 'ethylene', 'pentane', 'isopropyl_alcohol', 'glyoxal_trans', 'oxygen_monofluoride', 'acetamide', 'monosodium_sulfide', 'hydrogen_cyanide', 'pyridine', 'ethylamine', 'boron_trifluoride', 'pyrrole', 'cyclopentane', 'trifluoroacetic_acid', 'nitric_oxide', 'sulfur_monoxide', 'beryllium_monochloride', 'allene', 'methane', 'nonane', 'sodium_lithium', 'silicon_monoxide', 'phosphorus_mononitride', 'formic_acid', 'beryllium_dihydride', 'water', 'oxygen_diatomic', 'octane', 'dilithium_oxide', 'nitrogen_dioxide', 'sodium_diatomic', 'lithium_diatomic', 'acetyl_fluoride', 'propyne', 'ethyl_radical', 'silylene_s']\n"
     ]
    }
   ],
   "source": [
    "print(y_val_mols)"
   ]
  },
  {
   "cell_type": "code",
   "execution_count": null,
   "metadata": {},
   "outputs": [],
   "source": []
  }
 ],
 "metadata": {
  "interpreter": {
   "hash": "eb504e06e19e8d88e2fb0eed19ec0a704236ef277cc2f7218769018cf6791d95"
  },
  "kernelspec": {
   "display_name": "Python 3 (ipykernel)",
   "language": "python",
   "name": "python3"
  },
  "language_info": {
   "codemirror_mode": {
    "name": "ipython",
    "version": 3
   },
   "file_extension": ".py",
   "mimetype": "text/x-python",
   "name": "python",
   "nbconvert_exporter": "python",
   "pygments_lexer": "ipython3",
   "version": "3.11.5"
  }
 },
 "nbformat": 4,
 "nbformat_minor": 4
}

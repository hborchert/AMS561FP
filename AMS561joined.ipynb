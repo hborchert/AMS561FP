{
 "cells": [
  {
   "cell_type": "code",
   "execution_count": 1,
   "metadata": {},
   "outputs": [],
   "source": [
    "# Using PyTorch for NN\n",
    "import torch\n",
    "import torch.nn as nn\n",
    "import torch.optim as optim"
   ]
  },
  {
   "cell_type": "code",
   "execution_count": 2,
   "metadata": {},
   "outputs": [],
   "source": [
    "import pandas as pd\n",
    "import numpy as np\n",
    "import inputparser"
   ]
  },
  {
   "cell_type": "code",
   "execution_count": 3,
   "metadata": {},
   "outputs": [],
   "source": [
    "input_vector, y_test = inputparser.make_input()"
   ]
  },
  {
   "cell_type": "code",
   "execution_count": 4,
   "metadata": {},
   "outputs": [],
   "source": [
    "# x-test, y-test are 225 data points, remove first element for verification\n",
    "x_verification = []\n",
    "x_verification.append(input_vector[0])\n",
    "y_verification = y_test[0]\n",
    "\n",
    "x_input = input_vector[1:]\n",
    "y_input = []\n",
    "for i in y_test[1:]:\n",
    "    y_input.append(i)"
   ]
  },
  {
   "cell_type": "code",
   "execution_count": 5,
   "metadata": {},
   "outputs": [
    {
     "name": "stdout",
     "output_type": "stream",
     "text": [
      "Epoch [10/1000], Loss: 6.5634, Val Loss: 60.0878\n",
      "Epoch [20/1000], Loss: 0.3401, Val Loss: 1.1783\n",
      "Early stopping on epoch 21.\n",
      "Predicted output: -1.775876760482788\n",
      "True output: -1.9075102999999842\n"
     ]
    }
   ],
   "source": [
    "import torch\n",
    "import torch.nn as nn\n",
    "import torch.optim as optim\n",
    "from sklearn.model_selection import train_test_split\n",
    "from sklearn.preprocessing import StandardScaler\n",
    "\n",
    "# Input data\n",
    "X = torch.tensor(x_input.tolist())\n",
    "Y = torch.tensor(y_input)\n",
    "\n",
    "# Split data\n",
    "X_train, X_val, Y_train, Y_val = train_test_split(X, Y, test_size=0.2,random_state=42)\n",
    "\n",
    "# Normalize\n",
    "scaler = StandardScaler()\n",
    "X_train = scaler.fit_transform(X_train)\n",
    "X_val = scaler.transform(X_val)\n",
    "\n",
    "# Define the model\n",
    "class NeuralNet(nn.Module):\n",
    "    def __init__(self, input_size):\n",
    "        super(NeuralNet, self).__init__()\n",
    "        self.fc1 = nn.Linear(input_size, 64)\n",
    "        self.fc2 = nn.Linear(64, 1)\n",
    "\n",
    "    def forward(self, x):\n",
    "        x = torch.relu(self.fc1(x))\n",
    "        x = self.fc2(x)\n",
    "        return x\n",
    "\n",
    "# Initialize the model\n",
    "input_size = len(x_input[0])\n",
    "model = NeuralNet(input_size)\n",
    "\n",
    "# Define loss function and optimizer\n",
    "criterion = nn.MSELoss()\n",
    "optimizer = optim.Adam(model.parameters(), lr=0.01) \n",
    "scheduler = optim.lr_scheduler.ReduceLROnPlateau(optimizer, 'min', patience=5)\n",
    "\n",
    "# Training loop\n",
    "best_val_loss = float('inf')\n",
    "patience = 10\n",
    "counter = 0\n",
    "for epoch in range(1000):\n",
    "    # Forward pass\n",
    "    outputs = model(torch.tensor(X_train, dtype=torch.float32))\n",
    "    loss = criterion(outputs.squeeze(), Y_train)\n",
    "\n",
    "    # Backward pass and optimization\n",
    "    optimizer.zero_grad()\n",
    "    loss.backward()\n",
    "    optimizer.step()\n",
    "\n",
    "    # Validation loss\n",
    "    with torch.no_grad():\n",
    "        val_outputs = model(torch.tensor(X_val, dtype=torch.float32))\n",
    "        val_loss = criterion(val_outputs.squeeze(), Y_val)\n",
    "        \n",
    "    scheduler.step(val_loss)\n",
    "\n",
    "    # Early stopping\n",
    "    if val_loss < best_val_loss:\n",
    "        best_val_loss = val_loss\n",
    "        counter = 0\n",
    "    else:\n",
    "        counter += 1\n",
    "        if counter >= patience:\n",
    "            print(f'Early stopping on epoch {epoch}.')\n",
    "            break\n",
    "\n",
    "    # Print progress\n",
    "    if (epoch+1) % 10 == 0:\n",
    "        print(f'Epoch [{epoch+1}/1000], Loss: {loss.item():.4f}, Val Loss: {val_loss.item():.4f}')\n",
    "\n",
    "# Test\n",
    "input_data = torch.tensor(np.array(x_verification))\n",
    "input_data = scaler.transform(input_data) # Normalize\n",
    "predicted_output = model(torch.tensor(input_data, dtype=torch.float32))\n",
    "print(\"Predicted output:\", predicted_output.item())\n",
    "print(\"True output:\", y_verification)"
   ]
  },
  {
   "cell_type": "code",
   "execution_count": 6,
   "metadata": {},
   "outputs": [
    {
     "name": "stdout",
     "output_type": "stream",
     "text": [
      "Training MSE: 0.31373543\n",
      "Validation MSE: 1.1251938\n"
     ]
    }
   ],
   "source": [
    "from sklearn.metrics import mean_squared_error\n",
    "def calculate_mse(model, X, Y):\n",
    "    outputs = model(torch.tensor(X, dtype=torch.float32))\n",
    "    loss = mean_squared_error(outputs.squeeze().detach().numpy(), Y)\n",
    "    return loss\n",
    "\n",
    "train_mse = calculate_mse(model, X_train, Y_train)\n",
    "print(\"Training MSE:\", train_mse)\n",
    "\n",
    "val_mse = calculate_mse(model, X_val, Y_val)\n",
    "print(\"Validation MSE:\", val_mse)"
   ]
  }
 ],
 "metadata": {
  "interpreter": {
   "hash": "eb504e06e19e8d88e2fb0eed19ec0a704236ef277cc2f7218769018cf6791d95"
  },
  "kernelspec": {
   "display_name": "Python 3 (ipykernel)",
   "language": "python",
   "name": "python3"
  },
  "language_info": {
   "codemirror_mode": {
    "name": "ipython",
    "version": 3
   },
   "file_extension": ".py",
   "mimetype": "text/x-python",
   "name": "python",
   "nbconvert_exporter": "python",
   "pygments_lexer": "ipython3",
   "version": "3.11.5"
  }
 },
 "nbformat": 4,
 "nbformat_minor": 4
}

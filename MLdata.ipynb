{
 "cells": [
  {
   "cell_type": "code",
   "execution_count": 1,
   "id": "f87aa8cb-1d16-41e8-a75e-577047ba58a2",
   "metadata": {},
   "outputs": [],
   "source": [
    "import pandas as pd\n",
    "from contextlib import chdir\n",
    "import os\n",
    "import pathlib"
   ]
  },
  {
   "cell_type": "code",
   "execution_count": 2,
   "id": "2a8a6955-e3ab-48c0-860b-1b07141388d0",
   "metadata": {},
   "outputs": [],
   "source": [
    "b3lyp = pd.read_csv('b3lyp_eprec6.csv')\n",
    "hf = pd.read_csv('hf_eprec6.csv')\n",
    "lda = pd.read_csv('lda_eprec6.csv')\n",
    "pbe0 = pd.read_csv('pbe0_eprec6.csv')"
   ]
  },
  {
   "cell_type": "code",
   "execution_count": 3,
   "id": "1d3d779f-9d50-47c5-bf95-de12a01de10e",
   "metadata": {},
   "outputs": [
    {
     "name": "stdout",
     "output_type": "stream",
     "text": [
      "0      bicyclo[3.1.0]hexane\n",
      "1                 phosphine\n",
      "2         beryllium_sulfide\n",
      "3             lithium_oxide\n",
      "4           carbon_monoxide\n",
      "               ...         \n",
      "220            cyclopropene\n",
      "221             cyclobutane\n",
      "222              silylene_s\n",
      "223    aluminum_monohydride\n",
      "224         beryllium_oxide\n",
      "Name: Unnamed: 0, Length: 225, dtype: object\n",
      "0      bicyclo[3.1.0]hexane\n",
      "1                 phosphine\n",
      "2         beryllium_sulfide\n",
      "3             lithium_oxide\n",
      "4           carbon_monoxide\n",
      "               ...         \n",
      "220            cyclopropene\n",
      "221             cyclobutane\n",
      "222              silylene_s\n",
      "223    aluminum_monohydride\n",
      "224         beryllium_oxide\n",
      "Name: Unnamed: 0, Length: 225, dtype: object\n"
     ]
    }
   ],
   "source": [
    "# column of names is named Unnamed for some reason\n",
    "print(pbe0['Unnamed: 0'])\n",
    "print(lda['Unnamed: 0'])"
   ]
  },
  {
   "cell_type": "code",
   "execution_count": 4,
   "id": "04c8bdfe-6c6d-43de-860e-1829e1730d07",
   "metadata": {},
   "outputs": [
    {
     "name": "stdout",
     "output_type": "stream",
     "text": [
      "0     -234.448220\n",
      "1     -343.028857\n",
      "2     -412.752433\n",
      "3      -82.619718\n",
      "4     -113.237996\n",
      "          ...    \n",
      "220   -116.526064\n",
      "221   -157.084428\n",
      "222   -290.496811\n",
      "223   -242.867793\n",
      "224    -89.829275\n",
      "Name: Energy, Length: 225, dtype: float64\n"
     ]
    }
   ],
   "source": [
    "print(pbe0['Energy'])"
   ]
  },
  {
   "cell_type": "code",
   "execution_count": 5,
   "id": "b430cf37-f65a-4f76-85ca-2a7ba5fac4cf",
   "metadata": {},
   "outputs": [
    {
     "name": "stdout",
     "output_type": "stream",
     "text": [
      "               Unnamed: 0      Energy  Iterations  Dipole Moment  \\\n",
      "0    bicyclo[3.1.0]hexane -234.448220          12   7.575750e-02   \n",
      "1               phosphine -343.028857          10   2.507087e-01   \n",
      "2       beryllium_sulfide -412.752433          14   2.164581e+00   \n",
      "3           lithium_oxide  -82.619718          11   2.568827e+00   \n",
      "4         carbon_monoxide -113.237996           9   3.864714e-02   \n",
      "..                    ...         ...         ...            ...   \n",
      "220          cyclopropene -116.526064          10   1.839676e-01   \n",
      "221           cyclobutane -157.084428          10   7.186659e-07   \n",
      "222            silylene_s -290.496811          10   8.775786e-02   \n",
      "223  aluminum_monohydride -242.867793          10   2.059471e-02   \n",
      "224       beryllium_oxide  -89.829275          13   2.573871e+00   \n",
      "\n",
      "                                                Eigens  \\\n",
      "0    [-10.22198465, -10.22168891, -10.21485057, -10...   \n",
      "1    [-77.20463688, -6.60599131, -4.74144868, -4.74...   \n",
      "2    [-88.97301201, -7.95379117, -5.88776626, -5.88...   \n",
      "3    [-19.13684803, -2.01212619, -0.85683676, -0.30...   \n",
      "4    [-19.31435691, -10.34454326, -1.19738152, -0.5...   \n",
      "..                                                 ...   \n",
      "220  [-10.24169893, -10.24039825, -10.23485893, -0....   \n",
      "221  [-10.2163458, -10.21611401, -10.21611391, -10....   \n",
      "222  [-66.26798447, -5.34907045, -3.6882143, -3.679...   \n",
      "223  [-56.16605888, -4.19159708, -2.7224733, -2.722...   \n",
      "224  [-19.12455766, -4.09108271, -0.86910316, -0.30...   \n",
      "\n",
      "                                           Derivatives  Derivative Time  \\\n",
      "0    [0.003502, 0.002228, -0.0, 0.006102, -0.002167...               -1   \n",
      "1    [0.000941, -7.6e-05, 0.005065, -0.001034, -0.0...               -1   \n",
      "2    [-0.0, -0.0, -0.003885, 2.2e-05, -2.3e-05, 0.0...               -1   \n",
      "3      [-1e-06, 5e-06, -0.001223, -0.0, 0.0, 0.001051]               -1   \n",
      "4           [0.0, 0.0, -0.009885, 0.0, -0.0, 0.012159]               -1   \n",
      "..                                                 ...              ...   \n",
      "220  [1e-06, 0.0, 0.008582, 2e-06, 0.01503, -0.0047...               -1   \n",
      "221  [1e-06, -0.001494, 0.000976, 4e-06, 0.001495, ...               -1   \n",
      "222  [3.8e-05, 0.00012, -0.005348, -0.0, 0.001554, ...               -1   \n",
      "223  [1.9e-05, 6.3e-05, 0.004307, 0.0, 0.0, -0.002691]               -1   \n",
      "224      [0.0, 0.0, -0.014412, -1e-06, -0.0, 0.011096]               -1   \n",
      "\n",
      "     Wall Time  \n",
      "0        369.3  \n",
      "1         77.5  \n",
      "2        132.4  \n",
      "3        116.5  \n",
      "4         47.4  \n",
      "..         ...  \n",
      "220       90.0  \n",
      "221      168.4  \n",
      "222       81.2  \n",
      "223       66.2  \n",
      "224       50.8  \n",
      "\n",
      "[225 rows x 8 columns]\n"
     ]
    }
   ],
   "source": [
    "# the whole csv file (dipoles, forces, wall time etc)\n",
    "print(pbe0)"
   ]
  },
  {
   "cell_type": "code",
   "execution_count": 6,
   "id": "a5294e86-4ff3-43fb-be4e-f81c1c3cec9f",
   "metadata": {},
   "outputs": [],
   "source": [
    "# go through input files in geometry folder and parse geometry block into dictonary mols\n",
    "#\n",
    "# get relative path assuming geometries are in separate folder in the same directory\n",
    "path = os.path.abspath(os.getcwd())\n",
    "geometries_path = os.path.join(path, 'geometries')\n",
    "mols = {}\n",
    "# if relative path doesn't work use absolute path instead\n",
    "#for filename in os.scandir(\"/home/hannes/Documents/SBU/AMS561/ML/geometries\"):\n",
    "for filename in os.scandir(geometries_path):\n",
    "    # parse name of molecule (filename) for key\n",
    "    # does not distinguish files - make sure ONLY mdns files are in director\n",
    "    # e.g. no swap files from editors\n",
    "    name = str(filename).split()[1]\n",
    "    name = name.replace('.mdns', '')\n",
    "    name = name.replace(\"'\", \"\")\n",
    "    name = name.replace(\">\", \"\")\n",
    "    if filename.is_file():\n",
    "        f = open(filename, \"r\")\n",
    "        # list of lists containing [letter, x, y, z]\n",
    "        mol = []\n",
    "        # the format is\n",
    "        # geometry\n",
    "        # units angstrom\n",
    "        #  H 0 0 0\n",
    "        #  ...\n",
    "        # end\n",
    "        while True:\n",
    "            line = f.readline()\n",
    "            # skip the angstrom and geometry lines (not very clean but works for now)\n",
    "            if \"geometry\" in line:\n",
    "                line = f.readline()\n",
    "                #if \"units angstrom\" in line:\n",
    "                 #   f.readline()\n",
    "                while True:\n",
    "                    line = f.readline()\n",
    "                    if line == \"end\":\n",
    "                        break\n",
    "                    mol.append(line.split())\n",
    "                mols[name] = mol        \n",
    "            if not line:\n",
    "                break"
   ]
  },
  {
   "cell_type": "code",
   "execution_count": 7,
   "id": "ca4ce0b8-d7c6-4a5e-9971-966d68660bef",
   "metadata": {},
   "outputs": [
    {
     "name": "stdout",
     "output_type": "stream",
     "text": [
      "226\n"
     ]
    }
   ],
   "source": [
    "print(len(mols))"
   ]
  },
  {
   "cell_type": "code",
   "execution_count": 8,
   "id": "83e3d606-81bd-4e13-9bc8-463da70d12c4",
   "metadata": {},
   "outputs": [
    {
     "name": "stdout",
     "output_type": "stream",
     "text": [
      "[['O', '0.000000000000', '0.000000000000', '0.117300000000'], ['H', '0.000000000000', '0.757200000000', '-0.469200000000'], ['H', '0.000000000000', '-0.757200000000', '-0.469200000000']]\n"
     ]
    }
   ],
   "source": [
    "print(mols[\"water\"])"
   ]
  },
  {
   "cell_type": "code",
   "execution_count": 9,
   "id": "4af615c8-f252-444f-9ee7-08cc7c45aa80",
   "metadata": {},
   "outputs": [
    {
     "name": "stdout",
     "output_type": "stream",
     "text": [
      "['P', '0.000000000000', '0.000000000000', '0.000000000000']\n",
      "['H', '0.000000000000', '-1.193200000000', '-0.771700000000']\n",
      "['H', '1.033300000000', '0.596600000000', '-0.771700000000']\n",
      "['H', '-1.033300000000', '0.596600000000', '-0.771700000000']\n"
     ]
    }
   ],
   "source": [
    "# print a molecule\n",
    "mol_name = \"phosphine\"\n",
    "for i in mols[mol_name]:\n",
    "    print(i)"
   ]
  },
  {
   "cell_type": "code",
   "execution_count": null,
   "id": "ec011daf-8475-43be-ab2a-a45502d82b19",
   "metadata": {},
   "outputs": [],
   "source": []
  }
 ],
 "metadata": {
  "kernelspec": {
   "display_name": "Python 3 (ipykernel)",
   "language": "python",
   "name": "python3"
  },
  "language_info": {
   "codemirror_mode": {
    "name": "ipython",
    "version": 3
   },
   "file_extension": ".py",
   "mimetype": "text/x-python",
   "name": "python",
   "nbconvert_exporter": "python",
   "pygments_lexer": "ipython3",
   "version": "3.11.5"
  }
 },
 "nbformat": 4,
 "nbformat_minor": 5
}

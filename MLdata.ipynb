{
 "cells": [
  {
   "cell_type": "code",
   "execution_count": 1,
   "id": "f87aa8cb-1d16-41e8-a75e-577047ba58a2",
   "metadata": {},
   "outputs": [],
   "source": [
    "import pandas as pd\n",
    "from contextlib import chdir\n",
    "import os\n",
    "import pathlib"
   ]
  },
  {
   "cell_type": "code",
   "execution_count": 2,
   "id": "2a8a6955-e3ab-48c0-860b-1b07141388d0",
   "metadata": {},
   "outputs": [],
   "source": [
    "b3lyp = pd.read_csv('b3lyp_eprec6.csv')\n",
    "hf = pd.read_csv('hf_eprec6.csv')\n",
    "lda = pd.read_csv('lda_eprec6.csv')\n",
    "pbe0 = pd.read_csv('pbe0_eprec6.csv')"
   ]
  },
  {
   "cell_type": "code",
   "execution_count": 3,
   "id": "1d3d779f-9d50-47c5-bf95-de12a01de10e",
   "metadata": {},
   "outputs": [
    {
     "name": "stdout",
     "output_type": "stream",
     "text": [
      "0      bicyclo[3.1.0]hexane\n",
      "1                 phosphine\n",
      "2         beryllium_sulfide\n",
      "3             lithium_oxide\n",
      "4           carbon_monoxide\n",
      "               ...         \n",
      "220            cyclopropene\n",
      "221             cyclobutane\n",
      "222              silylene_s\n",
      "223    aluminum_monohydride\n",
      "224         beryllium_oxide\n",
      "Name: Unnamed: 0, Length: 225, dtype: object\n",
      "0      bicyclo[3.1.0]hexane\n",
      "1                 phosphine\n",
      "2         beryllium_sulfide\n",
      "3             lithium_oxide\n",
      "4           carbon_monoxide\n",
      "               ...         \n",
      "220            cyclopropene\n",
      "221             cyclobutane\n",
      "222              silylene_s\n",
      "223    aluminum_monohydride\n",
      "224         beryllium_oxide\n",
      "Name: Unnamed: 0, Length: 225, dtype: object\n"
     ]
    }
   ],
   "source": [
    "print(pbe0['Unnamed: 0'])\n",
    "print(lda['Unnamed: 0'])"
   ]
  },
  {
   "cell_type": "code",
   "execution_count": 4,
   "id": "04c8bdfe-6c6d-43de-860e-1829e1730d07",
   "metadata": {},
   "outputs": [
    {
     "name": "stdout",
     "output_type": "stream",
     "text": [
      "0     -234.448220\n",
      "1     -343.028857\n",
      "2     -412.752433\n",
      "3      -82.619718\n",
      "4     -113.237996\n",
      "          ...    \n",
      "220   -116.526064\n",
      "221   -157.084428\n",
      "222   -290.496811\n",
      "223   -242.867793\n",
      "224    -89.829275\n",
      "Name: Energy, Length: 225, dtype: float64\n"
     ]
    }
   ],
   "source": [
    "print(pbe0['Energy'])"
   ]
  },
  {
   "cell_type": "code",
   "execution_count": 5,
   "id": "b430cf37-f65a-4f76-85ca-2a7ba5fac4cf",
   "metadata": {},
   "outputs": [],
   "source": [
    "#print(pbe0)"
   ]
  },
  {
   "cell_type": "code",
   "execution_count": 6,
   "id": "a5294e86-4ff3-43fb-be4e-f81c1c3cec9f",
   "metadata": {},
   "outputs": [],
   "source": [
    "#with chdir(\"/home/hannes/Documents/SBU/AMS561/ML/geometries\"):\n",
    "path = os.path.abspath(os.getcwd())\n",
    "geometries_path = os.path.join(path, 'geometries')\n",
    "mols = {}\n",
    "#for filename in os.scandir(\"/home/hannes/Documents/SBU/AMS561/ML/geometries\"):\n",
    "for filename in os.scandir(geometries_path):\n",
    "    name = str(filename).split()[1]\n",
    "    name = name.replace('.mdns', '')\n",
    "    name = name.replace(\"'\", \"\")\n",
    "    name = name.replace(\">\", \"\")\n",
    "    if filename.is_file():\n",
    "        f = open(filename, \"r\")\n",
    "        mol = []\n",
    "        while True:\n",
    "            line = f.readline()\n",
    "            if \"geometry\" in line:\n",
    "                line = f.readline()\n",
    "                if \"units angstrom\" in line:\n",
    "                    f.readline()\n",
    "                while True:\n",
    "                    line = f.readline()\n",
    "                    if line == \"end\":\n",
    "                        break\n",
    "                    mol.append(line.split())\n",
    "                mols[name] = mol        \n",
    "            if not line:\n",
    "                break"
   ]
  },
  {
   "cell_type": "code",
   "execution_count": 7,
   "id": "ca4ce0b8-d7c6-4a5e-9971-966d68660bef",
   "metadata": {},
   "outputs": [
    {
     "name": "stdout",
     "output_type": "stream",
     "text": [
      "226\n"
     ]
    }
   ],
   "source": [
    "print(len(mols))"
   ]
  },
  {
   "cell_type": "code",
   "execution_count": 8,
   "id": "83e3d606-81bd-4e13-9bc8-463da70d12c4",
   "metadata": {},
   "outputs": [
    {
     "name": "stdout",
     "output_type": "stream",
     "text": [
      "[['H', '0.000000000000', '0.757200000000', '-0.469200000000'], ['H', '0.000000000000', '-0.757200000000', '-0.469200000000']]\n"
     ]
    }
   ],
   "source": [
    "print(mols[\"water\"])"
   ]
  },
  {
   "cell_type": "code",
   "execution_count": 9,
   "id": "4af615c8-f252-444f-9ee7-08cc7c45aa80",
   "metadata": {},
   "outputs": [
    {
     "name": "stdout",
     "output_type": "stream",
     "text": [
      "['C', '0.0000000', '0.7642750', '1.2644900']\n",
      "['C', '0.0000000', '-0.7642750', '1.2644900']\n",
      "['C', '-0.7642750', '0.0000000', '-1.2644900']\n",
      "['C', '0.7642750', '0.0000000', '-1.2644900']\n",
      "['H', '0.9134530', '1.2576380', '1.5632730']\n",
      "['H', '-0.9134530', '1.2576380', '1.5632730']\n",
      "['H', '-0.9134530', '-1.2576380', '1.5632730']\n",
      "['H', '0.9134530', '-1.2576380', '1.5632730']\n",
      "['H', '-1.2576380', '-0.9134530', '-1.5632730']\n",
      "['H', '-1.2576380', '0.9134530', '-1.5632730']\n",
      "['H', '1.2576380', '0.9134530', '-1.5632730']\n",
      "['H', '1.2576380', '-0.9134530', '-1.5632730']\n"
     ]
    }
   ],
   "source": [
    "for i in mols[\"bicyclo[3.1.0]hexane\"]:\n",
    "    print(i)"
   ]
  },
  {
   "cell_type": "code",
   "execution_count": null,
   "id": "ec011daf-8475-43be-ab2a-a45502d82b19",
   "metadata": {},
   "outputs": [],
   "source": []
  }
 ],
 "metadata": {
  "kernelspec": {
   "display_name": "Python 3 (ipykernel)",
   "language": "python",
   "name": "python3"
  },
  "language_info": {
   "codemirror_mode": {
    "name": "ipython",
    "version": 3
   },
   "file_extension": ".py",
   "mimetype": "text/x-python",
   "name": "python",
   "nbconvert_exporter": "python",
   "pygments_lexer": "ipython3",
   "version": "3.11.5"
  }
 },
 "nbformat": 4,
 "nbformat_minor": 5
}

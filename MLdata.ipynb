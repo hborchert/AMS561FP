{
 "cells": [
  {
   "cell_type": "code",
   "execution_count": 1,
   "id": "f87aa8cb-1d16-41e8-a75e-577047ba58a2",
   "metadata": {},
   "outputs": [],
   "source": [
    "import pandas as pd\n",
    "import os\n",
    "import pathlib\n",
    "#os.chdir('/home/adurden/Ari/AMS526/AMS561FP')"
   ]
  },
  {
   "cell_type": "code",
   "execution_count": 2,
   "id": "2a8a6955-e3ab-48c0-860b-1b07141388d0",
   "metadata": {},
   "outputs": [],
   "source": [
    "b3lyp = pd.read_csv('b3lyp_eprec6.csv')\n",
    "hf = pd.read_csv('hf_eprec6.csv')\n",
    "lda = pd.read_csv('lda_eprec6.csv')\n",
    "pbe0 = pd.read_csv('pbe0_eprec6.csv')"
   ]
  },
  {
   "cell_type": "code",
   "execution_count": 3,
   "id": "1d3d779f-9d50-47c5-bf95-de12a01de10e",
   "metadata": {},
   "outputs": [
    {
     "name": "stdout",
     "output_type": "stream",
     "text": [
      "0      bicyclo[3.1.0]hexane\n",
      "1                 phosphine\n",
      "2         beryllium_sulfide\n",
      "3             lithium_oxide\n",
      "4           carbon_monoxide\n",
      "               ...         \n",
      "220            cyclopropene\n",
      "221             cyclobutane\n",
      "222              silylene_s\n",
      "223    aluminum_monohydride\n",
      "224         beryllium_oxide\n",
      "Name: Unnamed: 0, Length: 225, dtype: object\n",
      "0      bicyclo[3.1.0]hexane\n",
      "1                 phosphine\n",
      "2         beryllium_sulfide\n",
      "3             lithium_oxide\n",
      "4           carbon_monoxide\n",
      "               ...         \n",
      "220            cyclopropene\n",
      "221             cyclobutane\n",
      "222              silylene_s\n",
      "223    aluminum_monohydride\n",
      "224         beryllium_oxide\n",
      "Name: Unnamed: 0, Length: 225, dtype: object\n"
     ]
    }
   ],
   "source": [
    "# column of names is named Unnamed for some reason\n",
    "print(pbe0['Unnamed: 0'])\n",
    "print(lda['Unnamed: 0'])"
   ]
  },
  {
   "cell_type": "code",
   "execution_count": 4,
   "id": "04c8bdfe-6c6d-43de-860e-1829e1730d07",
   "metadata": {},
   "outputs": [
    {
     "name": "stdout",
     "output_type": "stream",
     "text": [
      "0     -234.448220\n",
      "1     -343.028857\n",
      "2     -412.752433\n",
      "3      -82.619718\n",
      "4     -113.237996\n",
      "          ...    \n",
      "220   -116.526064\n",
      "221   -157.084428\n",
      "222   -290.496811\n",
      "223   -242.867793\n",
      "224    -89.829275\n",
      "Name: Energy, Length: 225, dtype: float64\n"
     ]
    }
   ],
   "source": [
    "print(pbe0['Energy'])"
   ]
  },
  {
   "cell_type": "code",
   "execution_count": 5,
   "id": "b430cf37-f65a-4f76-85ca-2a7ba5fac4cf",
   "metadata": {},
   "outputs": [
    {
     "name": "stdout",
     "output_type": "stream",
     "text": [
      "               Unnamed: 0      Energy  Iterations  Dipole Moment  \\\n",
      "0    bicyclo[3.1.0]hexane -234.448220          12   7.575750e-02   \n",
      "1               phosphine -343.028857          10   2.507087e-01   \n",
      "2       beryllium_sulfide -412.752433          14   2.164581e+00   \n",
      "3           lithium_oxide  -82.619718          11   2.568827e+00   \n",
      "4         carbon_monoxide -113.237996           9   3.864714e-02   \n",
      "..                    ...         ...         ...            ...   \n",
      "220          cyclopropene -116.526064          10   1.839676e-01   \n",
      "221           cyclobutane -157.084428          10   7.186659e-07   \n",
      "222            silylene_s -290.496811          10   8.775786e-02   \n",
      "223  aluminum_monohydride -242.867793          10   2.059471e-02   \n",
      "224       beryllium_oxide  -89.829275          13   2.573871e+00   \n",
      "\n",
      "                                                Eigens  \\\n",
      "0    [-10.22198465, -10.22168891, -10.21485057, -10...   \n",
      "1    [-77.20463688, -6.60599131, -4.74144868, -4.74...   \n",
      "2    [-88.97301201, -7.95379117, -5.88776626, -5.88...   \n",
      "3    [-19.13684803, -2.01212619, -0.85683676, -0.30...   \n",
      "4    [-19.31435691, -10.34454326, -1.19738152, -0.5...   \n",
      "..                                                 ...   \n",
      "220  [-10.24169893, -10.24039825, -10.23485893, -0....   \n",
      "221  [-10.2163458, -10.21611401, -10.21611391, -10....   \n",
      "222  [-66.26798447, -5.34907045, -3.6882143, -3.679...   \n",
      "223  [-56.16605888, -4.19159708, -2.7224733, -2.722...   \n",
      "224  [-19.12455766, -4.09108271, -0.86910316, -0.30...   \n",
      "\n",
      "                                           Derivatives  Derivative Time  \\\n",
      "0    [0.003502, 0.002228, -0.0, 0.006102, -0.002167...               -1   \n",
      "1    [0.000941, -7.6e-05, 0.005065, -0.001034, -0.0...               -1   \n",
      "2    [-0.0, -0.0, -0.003885, 2.2e-05, -2.3e-05, 0.0...               -1   \n",
      "3      [-1e-06, 5e-06, -0.001223, -0.0, 0.0, 0.001051]               -1   \n",
      "4           [0.0, 0.0, -0.009885, 0.0, -0.0, 0.012159]               -1   \n",
      "..                                                 ...              ...   \n",
      "220  [1e-06, 0.0, 0.008582, 2e-06, 0.01503, -0.0047...               -1   \n",
      "221  [1e-06, -0.001494, 0.000976, 4e-06, 0.001495, ...               -1   \n",
      "222  [3.8e-05, 0.00012, -0.005348, -0.0, 0.001554, ...               -1   \n",
      "223  [1.9e-05, 6.3e-05, 0.004307, 0.0, 0.0, -0.002691]               -1   \n",
      "224      [0.0, 0.0, -0.014412, -1e-06, -0.0, 0.011096]               -1   \n",
      "\n",
      "     Wall Time  \n",
      "0        369.3  \n",
      "1         77.5  \n",
      "2        132.4  \n",
      "3        116.5  \n",
      "4         47.4  \n",
      "..         ...  \n",
      "220       90.0  \n",
      "221      168.4  \n",
      "222       81.2  \n",
      "223       66.2  \n",
      "224       50.8  \n",
      "\n",
      "[225 rows x 8 columns]\n"
     ]
    }
   ],
   "source": [
    "# the whole csv file (dipoles, forces, wall time etc)\n",
    "print(pbe0)"
   ]
  },
  {
   "cell_type": "code",
   "execution_count": 6,
   "id": "a5294e86-4ff3-43fb-be4e-f81c1c3cec9f",
   "metadata": {},
   "outputs": [],
   "source": [
    "# go through input files in geometry folder and parse geometry block into dictonary mols\n",
    "#\n",
    "# get relative path assuming geometries are in separate folder in the same directory\n",
    "path = os.path.abspath(os.getcwd())\n",
    "geometries_path = os.path.join(path, 'geometries')\n",
    "mols = {}\n",
    "# if relative path doesn't work use absolute path instead\n",
    "#for filename in os.scandir(\"/home/hannes/Documents/SBU/AMS561/ML/geometries\"):\n",
    "for filename in os.scandir(geometries_path):\n",
    "    # parse name of molecule (filename) for key\n",
    "    # does not distinguish files - make sure ONLY mdns files are in director\n",
    "    # e.g. no swap files from editors\n",
    "    name = str(filename).split()[1]\n",
    "    name = name.replace('.mdns', '')\n",
    "    name = name.replace(\"'\", \"\")\n",
    "    name = name.replace(\">\", \"\")\n",
    "    if filename.is_file():\n",
    "        f = open(filename, \"r\")\n",
    "        # list of lists containing [letter, x, y, z]\n",
    "        mol = []\n",
    "        # the format is\n",
    "        # geometry\n",
    "        # units angstrom\n",
    "        #  H 0 0 0\n",
    "        #  ...\n",
    "        # end\n",
    "        while True:\n",
    "            line = f.readline()\n",
    "            # skip the angstrom and geometry lines (not very clean but works for now)\n",
    "            if \"geometry\" in line:\n",
    "                line = f.readline()\n",
    "                #if \"units angstrom\" in line:\n",
    "                 #   f.readline()\n",
    "                while True:\n",
    "                    line = f.readline()\n",
    "                    if line == \"end\":\n",
    "                        break\n",
    "                    mol.append(line.split())\n",
    "                mols[name] = mol \n",
    "                #print(len(mol))       \n",
    "            if not line:\n",
    "                break"
   ]
  },
  {
   "cell_type": "code",
   "execution_count": 7,
   "id": "83e3d606-81bd-4e13-9bc8-463da70d12c4",
   "metadata": {},
   "outputs": [
    {
     "name": "stdout",
     "output_type": "stream",
     "text": [
      "[['O', '0.000000000000', '0.000000000000', '0.117300000000'], ['H', '0.000000000000', '0.757200000000', '-0.469200000000'], ['H', '0.000000000000', '-0.757200000000', '-0.469200000000']]\n"
     ]
    }
   ],
   "source": [
    "print(mols[\"water\"])"
   ]
  },
  {
   "cell_type": "code",
   "execution_count": 8,
   "id": "4af615c8-f252-444f-9ee7-08cc7c45aa80",
   "metadata": {},
   "outputs": [
    {
     "name": "stdout",
     "output_type": "stream",
     "text": [
      "['P', '0.000000000000', '0.000000000000', '0.000000000000']\n",
      "['H', '0.000000000000', '-1.193200000000', '-0.771700000000']\n",
      "['H', '1.033300000000', '0.596600000000', '-0.771700000000']\n",
      "['H', '-1.033300000000', '0.596600000000', '-0.771700000000']\n"
     ]
    }
   ],
   "source": [
    "# print a molecule\n",
    "mol_name = \"phosphine\"\n",
    "for i in mols[mol_name]:\n",
    "    print(i)"
   ]
  },
  {
   "cell_type": "markdown",
   "id": "cae60ca3",
   "metadata": {},
   "source": [
    "Define a dictionary with symbols and atomic numbers of each element\n"
   ]
  },
  {
   "cell_type": "code",
   "execution_count": 9,
   "id": "ec011daf-8475-43be-ab2a-a45502d82b19",
   "metadata": {},
   "outputs": [
    {
     "name": "stdout",
     "output_type": "stream",
     "text": [
      "{'H': 1, 'He': 2, 'Li': 3, 'Be': 4, 'B': 5, 'C': 6, 'N': 7, 'O': 8, 'F': 9, 'Ne': 10, 'Na': 11, 'Mg': 12, 'Al': 13, 'Si': 14, 'P': 15, 'S': 16, 'Cl': 17, 'Ar': 18, 'K': 19, 'Ca': 20, 'Sc': 21, 'Ti': 22, 'V': 23, 'Cr': 24, 'Mn': 25, 'Fe': 26, 'Co': 27, 'Ni': 28, 'Cu': 29, 'Zn': 30, 'Ga': 31, 'Ge': 32, 'As': 33, 'Se': 34, 'Br': 35, 'Kr': 36, 'Rb': 37, 'Sr': 38, 'Y': 39, 'Zr': 40, 'Nb': 41, 'Mo': 42, 'Tc': 43, 'Ru': 44, 'Rh': 45, 'Pd': 46, 'Ag': 47, 'Cd': 48, 'In': 49, 'Sn': 50, 'Sb': 51, 'Te': 52, 'I': 53, 'Xe': 54, 'Cs': 55, 'Ba': 56, 'La': 57, 'Ce': 58, 'Pr': 59, 'Nd': 60, 'Pm': 61, 'Sm': 62, 'Eu': 63, 'Gd': 64, 'Tb': 65, 'Dy': 66, 'Ho': 67, 'Er': 68, 'Tm': 69, 'Yb': 70, 'Lu': 71, 'Hf': 72, 'Ta': 73, 'W': 74, 'Re': 75, 'Os': 76, 'Ir': 77, 'Pt': 78, 'Au': 79, 'Hg': 80}\n"
     ]
    }
   ],
   "source": [
    "elements = {\n",
    "    \"H\": 1,\n",
    "    \"He\": 2,\n",
    "    \"Li\": 3,\n",
    "    \"Be\": 4,\n",
    "    \"B\": 5,\n",
    "    \"C\": 6,\n",
    "    \"N\": 7,\n",
    "    \"O\": 8,\n",
    "    \"F\": 9,\n",
    "    \"Ne\": 10,\n",
    "    \"Na\": 11,\n",
    "    \"Mg\": 12,\n",
    "    \"Al\": 13,\n",
    "    \"Si\": 14,\n",
    "    \"P\": 15,\n",
    "    \"S\": 16,\n",
    "    \"Cl\": 17,\n",
    "    \"Ar\": 18,\n",
    "    \"K\": 19,\n",
    "    \"Ca\": 20,\n",
    "    \"Sc\": 21,\n",
    "    \"Ti\": 22,\n",
    "    \"V\": 23,\n",
    "    \"Cr\": 24,\n",
    "    \"Mn\": 25,\n",
    "    \"Fe\": 26,\n",
    "    \"Co\": 27,\n",
    "    \"Ni\": 28,\n",
    "    \"Cu\": 29,\n",
    "    \"Zn\": 30,\n",
    "    \"Ga\": 31,\n",
    "    \"Ge\": 32,\n",
    "    \"As\": 33,\n",
    "    \"Se\": 34,\n",
    "    \"Br\": 35,\n",
    "    \"Kr\": 36,\n",
    "    \"Rb\": 37,\n",
    "    \"Sr\": 38,\n",
    "    \"Y\": 39,\n",
    "    \"Zr\": 40,\n",
    "    \"Nb\": 41,\n",
    "    \"Mo\": 42,\n",
    "    \"Tc\": 43,\n",
    "    \"Ru\": 44,\n",
    "    \"Rh\": 45,\n",
    "    \"Pd\": 46,\n",
    "    \"Ag\": 47,\n",
    "    \"Cd\": 48,\n",
    "    \"In\": 49,\n",
    "    \"Sn\": 50,\n",
    "    \"Sb\": 51,\n",
    "    \"Te\": 52,\n",
    "    \"I\": 53,\n",
    "    \"Xe\": 54,\n",
    "    \"Cs\": 55,\n",
    "    \"Ba\": 56,\n",
    "    \"La\": 57,\n",
    "    \"Ce\": 58,\n",
    "    \"Pr\": 59,\n",
    "    \"Nd\": 60,\n",
    "    \"Pm\": 61,\n",
    "    \"Sm\": 62,\n",
    "    \"Eu\": 63,\n",
    "    \"Gd\": 64,\n",
    "    \"Tb\": 65,\n",
    "    \"Dy\": 66,\n",
    "    \"Ho\": 67,\n",
    "    \"Er\": 68,\n",
    "    \"Tm\": 69,\n",
    "    \"Yb\": 70,\n",
    "    \"Lu\": 71,\n",
    "    \"Hf\": 72,\n",
    "    \"Ta\": 73,\n",
    "    \"W\": 74,\n",
    "    \"Re\": 75,\n",
    "    \"Os\": 76,\n",
    "    \"Ir\": 77,\n",
    "    \"Pt\": 78,\n",
    "    \"Au\": 79,\n",
    "    \"Hg\": 80\n",
    "}\n",
    "\n",
    "print(elements)\n"
   ]
  },
  {
   "cell_type": "code",
   "execution_count": 10,
   "id": "7e6daefd",
   "metadata": {},
   "outputs": [
    {
     "name": "stdout",
     "output_type": "stream",
     "text": [
      "Coulomb Matrix for water molecule:\n",
      "[[73.51669472  8.35268725  8.35268725 ...  0.          0.\n",
      "   0.        ]\n",
      " [ 8.35268725  0.5         0.66032752 ...  0.          0.\n",
      "   0.        ]\n",
      " [ 8.35268725  0.66032752  0.5        ...  0.          0.\n",
      "   0.        ]\n",
      " ...\n",
      " [ 0.          0.          0.         ...  0.          0.\n",
      "   0.        ]\n",
      " [ 0.          0.          0.         ...  0.          0.\n",
      "   0.        ]\n",
      " [ 0.          0.          0.         ...  0.          0.\n",
      "   0.        ]]\n"
     ]
    }
   ],
   "source": [
    "import numpy as np\n",
    "def distance(coord1, coord2):\n",
    "    return np.linalg.norm(coord1 - coord2)\n",
    "dimension=32\n",
    "def get_charge(symbol):\n",
    "    return elements[symbol]\n",
    "\n",
    "def coulomb_matrix(molecule):\n",
    "    num_atoms = len(molecule)\n",
    "    coords = np.array([[float(atom[1]), float(atom[2]), float(atom[3])] for atom in molecule])\n",
    "    charges = np.array([get_charge(atom[0]) for atom in molecule])\n",
    "    \n",
    "    coulomb_mat = np.zeros((dimension, dimension))\n",
    "    \n",
    "    for i in range(num_atoms):\n",
    "        for j in range(num_atoms):\n",
    "            if i == j:\n",
    "                coulomb_mat[i, j] = 0.5 * charges[i] ** 2.4\n",
    "            else:\n",
    "                coulomb_mat[i, j] = charges[i] * charges[j] / distance(coords[i], coords[j])\n",
    "    \n",
    "    return coulomb_mat\n",
    "\n",
    "\n",
    "\n",
    "\n",
    "# Generate Coulomb matrix for water molecule\n",
    "water_coulomb_mat = coulomb_matrix(mols[\"water\"])\n",
    "\n",
    "print(\"Coulomb Matrix for water molecule:\")\n",
    "print(water_coulomb_mat)\n"
   ]
  },
  {
   "cell_type": "code",
   "execution_count": 11,
   "id": "b824835d",
   "metadata": {},
   "outputs": [],
   "source": [
    "vec = water_coulomb_mat.flatten()"
   ]
  },
  {
   "cell_type": "code",
   "execution_count": 12,
   "id": "77a1896a-7306-4fa2-b052-1af2e935b375",
   "metadata": {},
   "outputs": [],
   "source": [
    "np.set_printoptions(threshold=np.inf)\n",
    "#print(vec)\n",
    "#print(type(vec))"
   ]
  },
  {
   "cell_type": "code",
   "execution_count": 13,
   "id": "be5a75f7-2f2f-416f-aa42-4f30cd8b7de7",
   "metadata": {},
   "outputs": [],
   "source": [
    "mols_vec = {}\n",
    "for item in mols.items():\n",
    "    mols_vec[item[0]] = coulomb_matrix(item[1]).flatten() "
   ]
  },
  {
   "cell_type": "code",
   "execution_count": 14,
   "id": "0885a34a-0b81-4359-81be-579e74a6bad3",
   "metadata": {},
   "outputs": [],
   "source": [
    "#print(mols_vec['water'])"
   ]
  },
  {
   "cell_type": "code",
   "execution_count": 15,
   "id": "f2b92321-8434-4d1b-a6d2-ea3299fe97a0",
   "metadata": {},
   "outputs": [],
   "source": [
    "e_diff = pbe0['Energy'].astype(float)-lda['Energy'].astype(float)"
   ]
  },
  {
   "cell_type": "code",
   "execution_count": 16,
   "id": "999a3e31-2602-4fb2-805e-42f4e40dc0ae",
   "metadata": {},
   "outputs": [],
   "source": [
    "#print(mols_vec.keys())\n",
    "#print(pbe0['Unnamed: 0'])\n",
    "#print(lda['Unnamed: 0'])"
   ]
  },
  {
   "cell_type": "code",
   "execution_count": 17,
   "id": "6c765215-3478-4c5c-ac62-f796700b0fcd",
   "metadata": {},
   "outputs": [],
   "source": [
    "count = 0\n",
    "name, vector, energy_diff = [], [], []\n",
    "for i in pbe0['Unnamed: 0']:\n",
    "    #print(i, mols_vec[i], e_diff[count])\n",
    "    name.append(i)\n",
    "    vector.append(mols_vec[i])\n",
    "    energy_diff.append(e_diff[count])\n",
    "    count += 1"
   ]
  },
  {
   "cell_type": "code",
   "execution_count": 18,
   "id": "f8e1d410-e6ae-4ff1-8ad6-85e0287bd2f5",
   "metadata": {},
   "outputs": [],
   "source": [
    "temp = {'name':name, 'vector':vector, \"ediff\":energy_diff}\n",
    "save_data = pd.DataFrame(temp)"
   ]
  },
  {
   "cell_type": "code",
   "execution_count": 19,
   "id": "9bb6b784-e0f4-457f-9dea-dffdbb6dd206",
   "metadata": {},
   "outputs": [
    {
     "data": {
      "text/html": [
       "<div>\n",
       "<style scoped>\n",
       "    .dataframe tbody tr th:only-of-type {\n",
       "        vertical-align: middle;\n",
       "    }\n",
       "\n",
       "    .dataframe tbody tr th {\n",
       "        vertical-align: top;\n",
       "    }\n",
       "\n",
       "    .dataframe thead th {\n",
       "        text-align: right;\n",
       "    }\n",
       "</style>\n",
       "<table border=\"1\" class=\"dataframe\">\n",
       "  <thead>\n",
       "    <tr style=\"text-align: right;\">\n",
       "      <th></th>\n",
       "      <th>name</th>\n",
       "      <th>vector</th>\n",
       "      <th>ediff</th>\n",
       "    </tr>\n",
       "  </thead>\n",
       "  <tbody>\n",
       "    <tr>\n",
       "      <th>0</th>\n",
       "      <td>bicyclo[3.1.0]hexane</td>\n",
       "      <td>[36.85810519942594, 24.365231184761182, 24.365...</td>\n",
       "      <td>-1.907510</td>\n",
       "    </tr>\n",
       "    <tr>\n",
       "      <th>1</th>\n",
       "      <td>phosphine</td>\n",
       "      <td>[332.3449056445624, 10.555930493733829, 10.556...</td>\n",
       "      <td>-1.156955</td>\n",
       "    </tr>\n",
       "    <tr>\n",
       "      <th>2</th>\n",
       "      <td>beryllium_sulfide</td>\n",
       "      <td>[13.928809012737984, 36.74992822279644, 0.0, 0...</td>\n",
       "      <td>-1.395603</td>\n",
       "    </tr>\n",
       "    <tr>\n",
       "      <th>3</th>\n",
       "      <td>lithium_oxide</td>\n",
       "      <td>[73.51669471981023, 14.216325079966829, 0.0, 0...</td>\n",
       "      <td>-0.585126</td>\n",
       "    </tr>\n",
       "    <tr>\n",
       "      <th>4</th>\n",
       "      <td>carbon_monoxide</td>\n",
       "      <td>[36.85810519942594, 42.5418771603297, 0.0, 0.0...</td>\n",
       "      <td>-0.759815</td>\n",
       "    </tr>\n",
       "  </tbody>\n",
       "</table>\n",
       "</div>"
      ],
      "text/plain": [
       "                   name                                             vector  \\\n",
       "0  bicyclo[3.1.0]hexane  [36.85810519942594, 24.365231184761182, 24.365...   \n",
       "1             phosphine  [332.3449056445624, 10.555930493733829, 10.556...   \n",
       "2     beryllium_sulfide  [13.928809012737984, 36.74992822279644, 0.0, 0...   \n",
       "3         lithium_oxide  [73.51669471981023, 14.216325079966829, 0.0, 0...   \n",
       "4       carbon_monoxide  [36.85810519942594, 42.5418771603297, 0.0, 0.0...   \n",
       "\n",
       "      ediff  \n",
       "0 -1.907510  \n",
       "1 -1.156955  \n",
       "2 -1.395603  \n",
       "3 -0.585126  \n",
       "4 -0.759815  "
      ]
     },
     "execution_count": 19,
     "metadata": {},
     "output_type": "execute_result"
    }
   ],
   "source": [
    "save_data.head()"
   ]
  },
  {
   "cell_type": "code",
   "execution_count": 20,
   "id": "1b1e3706-dfa3-4c9c-a278-ecc4d2a01267",
   "metadata": {},
   "outputs": [],
   "source": [
    "#save_data.to_csv('INPUT1_pbe0_lda.csv', index=False)"
   ]
  }
 ],
 "metadata": {
  "kernelspec": {
   "display_name": "Python 3 (ipykernel)",
   "language": "python",
   "name": "python3"
  },
  "language_info": {
   "codemirror_mode": {
    "name": "ipython",
    "version": 3
   },
   "file_extension": ".py",
   "mimetype": "text/x-python",
   "name": "python",
   "nbconvert_exporter": "python",
   "pygments_lexer": "ipython3",
   "version": "3.11.5"
  }
 },
 "nbformat": 4,
 "nbformat_minor": 5
}
